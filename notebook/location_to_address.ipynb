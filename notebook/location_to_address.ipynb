{
 "cells": [
  {
   "cell_type": "code",
   "execution_count": 1,
   "metadata": {},
   "outputs": [],
   "source": [
    "import os\n",
    "import time\n",
    "\n",
    "import numpy as np\n",
    "import pandas as pd\n",
    "import dask.dataframe as dd\n",
    "from dask.distributed import Client, LocalCluster\n",
    "\n",
    "import sys\n",
    "sys.path.append('../python/administrativeArea/')\n",
    "from vietnamADM import AdministrativeArea"
   ]
  },
  {
   "cell_type": "code",
   "execution_count": 2,
   "metadata": {},
   "outputs": [
    {
     "data": {
      "text/html": [
       "<table style=\"border: 2px solid white;\">\n",
       "<tr>\n",
       "<td style=\"vertical-align: top; border: 0px solid white\">\n",
       "<h3>Client</h3>\n",
       "<ul>\n",
       "  <li><b>Scheduler: </b>tcp://10.3.0.79:46027\n",
       "  <li><b>Dashboard: </b><a href='http://10.3.0.79:8787/status' target='_blank'>http://10.3.0.79:8787/status</a>\n",
       "</ul>\n",
       "</td>\n",
       "<td style=\"vertical-align: top; border: 0px solid white\">\n",
       "<h3>Cluster</h3>\n",
       "<ul>\n",
       "  <li><b>Workers: </b>8</li>\n",
       "  <li><b>Cores: </b>40</li>\n",
       "  <li><b>Memory: </b>270.38 GB</li>\n",
       "</ul>\n",
       "</td>\n",
       "</tr>\n",
       "</table>"
      ],
      "text/plain": [
       "<Client: scheduler='tcp://10.3.0.79:46027' processes=8 cores=40>"
      ]
     },
     "execution_count": 2,
     "metadata": {},
     "output_type": "execute_result"
    }
   ],
   "source": [
    "cluster = LocalCluster(ip=\"0.0.0.0\")\n",
    "client = Client(cluster)\n",
    "client"
   ]
  },
  {
   "cell_type": "code",
   "execution_count": 3,
   "metadata": {},
   "outputs": [],
   "source": [
    "N_JOBS=32"
   ]
  },
  {
   "cell_type": "code",
   "execution_count": 4,
   "metadata": {},
   "outputs": [],
   "source": [
    "from_date = '2018-11-14'\n",
    "end_date = '2018-11-27'\n",
    "PATH = '/home/phongdk/data_user_income_targeting'\n",
    "VNM_ADM_PATH = '/home/phongdk/VNM_adm/'\n",
    "filename_location = \"location_from_{}_to_{}.csv.gz\".format(from_date, end_date)\n",
    "\n",
    "vn_adm = AdministrativeArea(VNM_ADM_PATH)\n",
    "# vn_adm2 = AdministrativeArea2(os.path.join(VNM_ADM_PATH, 'VNM_adm2.shp'))\n",
    "# vn_adm3 = AdministrativeArea2(os.path.join(VNM_ADM_PATH, 'VNM_adm3.shp'))\n"
   ]
  },
  {
   "cell_type": "code",
   "execution_count": 5,
   "metadata": {},
   "outputs": [
    {
     "name": "stdout",
     "output_type": "stream",
     "text": [
      "CPU times: user 27.7 s, sys: 2.36 s, total: 30 s\n",
      "Wall time: 28 s\n"
     ]
    }
   ],
   "source": [
    "%%time\n",
    "df = pd.read_csv(os.path.join(PATH, filename_location), dtype={'user_id': str})#, nrows=5000)\n",
    "# print('--------Finding address----------------')\n",
    "# df.apply(lambda x: vn_adm.find_address(x['lat'], x['lon']), axis=1)\n",
    "# CPU times: user 22h 45min 27s, sys: 24min 11s, total: 23h 9min 39s\n",
    "# Wall time: 22h 38min 29s    "
   ]
  },
  {
   "cell_type": "code",
   "execution_count": 6,
   "metadata": {},
   "outputs": [
    {
     "name": "stderr",
     "output_type": "stream",
     "text": [
      "/home/phongdk/anaconda3/lib/python3.6/site-packages/dask/dataframe/core.py:3107: UserWarning: `meta` is not specified, inferred from partial data. Please provide `meta` if the result is unexpected.\n",
      "  Before: .apply(func)\n",
      "  After:  .apply(func, meta={'x': 'f8', 'y': 'f8'}) for dataframe result\n",
      "  or:     .apply(func, meta=('x', 'f8'))            for series result\n",
      "  warnings.warn(msg)\n",
      "/home/phongdk/anaconda3/lib/python3.6/site-packages/distributed/worker.py:2791: UserWarning: Large object of size 72.46 MB detected in task graph: \n",
      "  (                       user_id       lat      lon ... 97abaf451fc6f')\n",
      "Consider scattering large objects ahead of time\n",
      "with client.scatter to reduce scheduler burden and \n",
      "keep data on workers\n",
      "\n",
      "    future = client.submit(func, big_data)    # bad\n",
      "\n",
      "    big_future = client.scatter(big_data)     # good\n",
      "    future = client.submit(func, big_future)  # good\n",
      "  % (format_bytes(len(b)), s))\n"
     ]
    },
    {
     "name": "stdout",
     "output_type": "stream",
     "text": [
      "CPU times: user 22min 15s, sys: 5min 20s, total: 27min 35s\n",
      "Wall time: 3h 24min 55s\n"
     ]
    }
   ],
   "source": [
    "%%time\n",
    "df_dask = dd.from_pandas(df, npartitions=N_JOBS)\n",
    "#df_dask['address'] = df_dask.apply(lambda x: vn_adm.find_address(x['lat'], x['lon']), meta={'lat': float, 'lon':float, 'address':str}, axis=1).compute()\n",
    "address = df_dask.apply(lambda x: vn_adm.find_address(x['lat'], x['lon']), axis=1).compute()\n",
    "df_dask = df_dask.assign(**{'address': address})"
   ]
  },
  {
   "cell_type": "code",
   "execution_count": 13,
   "metadata": {},
   "outputs": [
    {
     "data": {
      "text/plain": [
       "['/home/phongdk/data_user_income_targeting/full_location/address_from_2018-11-14_to_2018-11-27_file00.csv',\n",
       " '/home/phongdk/data_user_income_targeting/full_location/address_from_2018-11-14_to_2018-11-27_file01.csv',\n",
       " '/home/phongdk/data_user_income_targeting/full_location/address_from_2018-11-14_to_2018-11-27_file02.csv',\n",
       " '/home/phongdk/data_user_income_targeting/full_location/address_from_2018-11-14_to_2018-11-27_file03.csv',\n",
       " '/home/phongdk/data_user_income_targeting/full_location/address_from_2018-11-14_to_2018-11-27_file04.csv',\n",
       " '/home/phongdk/data_user_income_targeting/full_location/address_from_2018-11-14_to_2018-11-27_file05.csv',\n",
       " '/home/phongdk/data_user_income_targeting/full_location/address_from_2018-11-14_to_2018-11-27_file06.csv',\n",
       " '/home/phongdk/data_user_income_targeting/full_location/address_from_2018-11-14_to_2018-11-27_file07.csv',\n",
       " '/home/phongdk/data_user_income_targeting/full_location/address_from_2018-11-14_to_2018-11-27_file08.csv',\n",
       " '/home/phongdk/data_user_income_targeting/full_location/address_from_2018-11-14_to_2018-11-27_file09.csv',\n",
       " '/home/phongdk/data_user_income_targeting/full_location/address_from_2018-11-14_to_2018-11-27_file10.csv',\n",
       " '/home/phongdk/data_user_income_targeting/full_location/address_from_2018-11-14_to_2018-11-27_file11.csv',\n",
       " '/home/phongdk/data_user_income_targeting/full_location/address_from_2018-11-14_to_2018-11-27_file12.csv',\n",
       " '/home/phongdk/data_user_income_targeting/full_location/address_from_2018-11-14_to_2018-11-27_file13.csv',\n",
       " '/home/phongdk/data_user_income_targeting/full_location/address_from_2018-11-14_to_2018-11-27_file14.csv',\n",
       " '/home/phongdk/data_user_income_targeting/full_location/address_from_2018-11-14_to_2018-11-27_file15.csv',\n",
       " '/home/phongdk/data_user_income_targeting/full_location/address_from_2018-11-14_to_2018-11-27_file16.csv',\n",
       " '/home/phongdk/data_user_income_targeting/full_location/address_from_2018-11-14_to_2018-11-27_file17.csv',\n",
       " '/home/phongdk/data_user_income_targeting/full_location/address_from_2018-11-14_to_2018-11-27_file18.csv',\n",
       " '/home/phongdk/data_user_income_targeting/full_location/address_from_2018-11-14_to_2018-11-27_file19.csv',\n",
       " '/home/phongdk/data_user_income_targeting/full_location/address_from_2018-11-14_to_2018-11-27_file20.csv',\n",
       " '/home/phongdk/data_user_income_targeting/full_location/address_from_2018-11-14_to_2018-11-27_file21.csv',\n",
       " '/home/phongdk/data_user_income_targeting/full_location/address_from_2018-11-14_to_2018-11-27_file22.csv',\n",
       " '/home/phongdk/data_user_income_targeting/full_location/address_from_2018-11-14_to_2018-11-27_file23.csv',\n",
       " '/home/phongdk/data_user_income_targeting/full_location/address_from_2018-11-14_to_2018-11-27_file24.csv',\n",
       " '/home/phongdk/data_user_income_targeting/full_location/address_from_2018-11-14_to_2018-11-27_file25.csv',\n",
       " '/home/phongdk/data_user_income_targeting/full_location/address_from_2018-11-14_to_2018-11-27_file26.csv',\n",
       " '/home/phongdk/data_user_income_targeting/full_location/address_from_2018-11-14_to_2018-11-27_file27.csv',\n",
       " '/home/phongdk/data_user_income_targeting/full_location/address_from_2018-11-14_to_2018-11-27_file28.csv',\n",
       " '/home/phongdk/data_user_income_targeting/full_location/address_from_2018-11-14_to_2018-11-27_file29.csv',\n",
       " '/home/phongdk/data_user_income_targeting/full_location/address_from_2018-11-14_to_2018-11-27_file30.csv',\n",
       " '/home/phongdk/data_user_income_targeting/full_location/address_from_2018-11-14_to_2018-11-27_file31.csv']"
      ]
     },
     "execution_count": 13,
     "metadata": {},
     "output_type": "execute_result"
    }
   ],
   "source": [
    "df_dask = dd.from_pandas(df_dask[['user_id', 'address']].drop_duplicates(subset=['user_id', 'address']).compute(), npartitions=N_JOBS)  #pandas\n",
    "df_dask.to_csv(os.path.join(PATH, \"full_location/address_from_{}_to_{}_file*.csv\".format(from_date, end_date)), index=False)"
   ]
  },
  {
   "cell_type": "code",
   "execution_count": 8,
   "metadata": {},
   "outputs": [
    {
     "name": "stderr",
     "output_type": "stream",
     "text": [
      "/home/phongdk/anaconda3/lib/python3.6/site-packages/dask/dataframe/core.py:2284: UserWarning: `meta` is not specified, inferred from partial data. Please provide `meta` if the result is unexpected.\n",
      "  Before: .apply(func)\n",
      "  After:  .apply(func, meta={'x': 'f8', 'y': 'f8'}) for dataframe result\n",
      "  or:     .apply(func, meta=('x', 'f8'))            for series result\n",
      "  warnings.warn(msg)\n"
     ]
    },
    {
     "name": "stdout",
     "output_type": "stream",
     "text": [
      "           user_id          province\n",
      "0    4179731125044        Bình Thuận\n",
      "1   10846855546626  Hồ Chí Minh city\n",
      "6   15415225686218        Bình Dương\n",
      "10  16957361450243           Cần Thơ\n",
      "11  19187710618804            Hà Nội\n",
      "Length after dropping duplicates 9735668\n"
     ]
    },
    {
     "name": "stderr",
     "output_type": "stream",
     "text": [
      "/home/phongdk/anaconda3/lib/python3.6/site-packages/ipykernel_launcher.py:7: UserWarning: `meta` is not specified, inferred from partial data. Please provide `meta` if the result is unexpected.\n",
      "  Before: .apply(func)\n",
      "  After:  .apply(func, meta={'x': 'f8', 'y': 'f8'}) for dataframe result\n",
      "  or:     .apply(func, meta=('x', 'f8'))            for series result\n",
      "  import sys\n"
     ]
    },
    {
     "name": "stdout",
     "output_type": "stream",
     "text": [
      "user_id\n",
      "10000087237517407770    [Hồ Chí Minh city, Đắk Lắk]\n",
      "10000102880679195398                       [Hà Nội]\n",
      "10000124325894525605                       [Hà Nội]\n",
      "10000182051201904318            [Nghệ An, Lạng Sơn]\n",
      "10000256181516297049                       [Hà Nội]\n",
      "Name: province, dtype: object\n",
      "Length after grouping provinces 9735668\n",
      "CPU times: user 1min 51s, sys: 20.4 s, total: 2min 11s\n",
      "Wall time: 5min 42s\n"
     ]
    }
   ],
   "source": [
    "%%time\n",
    "provinces = df_dask['address'].apply(lambda x: x.split(',')[-1].strip()).compute()\n",
    "df_dask = df_dask.assign(**{'province': provinces})\n",
    "df_user_province= df_dask[['user_id', 'province']].drop_duplicates(subset=['user_id', 'province']).compute()  #pandas\n",
    "print(df_user_province.head())\n",
    "print('Length after dropping duplicates', len(df_user_province))\n",
    "df_dask_user_province = dd.from_pandas(df_user_province, npartitions=N_JOBS)\n",
    "user_list_provinces = df_dask_user_province.groupby('user_id')['province'].apply(list).compute()  # pandas\n",
    "print(user_list_provinces.head())\n",
    "print('Length after grouping provinces', len(df_user_province))\n",
    "df_dask_user_list_provinces = dd.from_pandas(user_list_provinces, npartitions=N_JOBS)"
   ]
  },
  {
   "cell_type": "code",
   "execution_count": 9,
   "metadata": {},
   "outputs": [],
   "source": [
    "#%%time\n",
    "#user_list_province = df_dask_user_province.groupby('user_id')['province'].apply(list).compute()"
   ]
  },
  {
   "cell_type": "code",
   "execution_count": 14,
   "metadata": {},
   "outputs": [
    {
     "data": {
      "text/plain": [
       "['/home/phongdk/data_user_income_targeting/address_from_2018-11-14_to_2018-11-27_file00.csv',\n",
       " '/home/phongdk/data_user_income_targeting/address_from_2018-11-14_to_2018-11-27_file01.csv',\n",
       " '/home/phongdk/data_user_income_targeting/address_from_2018-11-14_to_2018-11-27_file02.csv',\n",
       " '/home/phongdk/data_user_income_targeting/address_from_2018-11-14_to_2018-11-27_file03.csv',\n",
       " '/home/phongdk/data_user_income_targeting/address_from_2018-11-14_to_2018-11-27_file04.csv',\n",
       " '/home/phongdk/data_user_income_targeting/address_from_2018-11-14_to_2018-11-27_file05.csv',\n",
       " '/home/phongdk/data_user_income_targeting/address_from_2018-11-14_to_2018-11-27_file06.csv',\n",
       " '/home/phongdk/data_user_income_targeting/address_from_2018-11-14_to_2018-11-27_file07.csv',\n",
       " '/home/phongdk/data_user_income_targeting/address_from_2018-11-14_to_2018-11-27_file08.csv',\n",
       " '/home/phongdk/data_user_income_targeting/address_from_2018-11-14_to_2018-11-27_file09.csv',\n",
       " '/home/phongdk/data_user_income_targeting/address_from_2018-11-14_to_2018-11-27_file10.csv',\n",
       " '/home/phongdk/data_user_income_targeting/address_from_2018-11-14_to_2018-11-27_file11.csv',\n",
       " '/home/phongdk/data_user_income_targeting/address_from_2018-11-14_to_2018-11-27_file12.csv',\n",
       " '/home/phongdk/data_user_income_targeting/address_from_2018-11-14_to_2018-11-27_file13.csv',\n",
       " '/home/phongdk/data_user_income_targeting/address_from_2018-11-14_to_2018-11-27_file14.csv',\n",
       " '/home/phongdk/data_user_income_targeting/address_from_2018-11-14_to_2018-11-27_file15.csv',\n",
       " '/home/phongdk/data_user_income_targeting/address_from_2018-11-14_to_2018-11-27_file16.csv',\n",
       " '/home/phongdk/data_user_income_targeting/address_from_2018-11-14_to_2018-11-27_file17.csv',\n",
       " '/home/phongdk/data_user_income_targeting/address_from_2018-11-14_to_2018-11-27_file18.csv',\n",
       " '/home/phongdk/data_user_income_targeting/address_from_2018-11-14_to_2018-11-27_file19.csv',\n",
       " '/home/phongdk/data_user_income_targeting/address_from_2018-11-14_to_2018-11-27_file20.csv',\n",
       " '/home/phongdk/data_user_income_targeting/address_from_2018-11-14_to_2018-11-27_file21.csv',\n",
       " '/home/phongdk/data_user_income_targeting/address_from_2018-11-14_to_2018-11-27_file22.csv',\n",
       " '/home/phongdk/data_user_income_targeting/address_from_2018-11-14_to_2018-11-27_file23.csv',\n",
       " '/home/phongdk/data_user_income_targeting/address_from_2018-11-14_to_2018-11-27_file24.csv',\n",
       " '/home/phongdk/data_user_income_targeting/address_from_2018-11-14_to_2018-11-27_file25.csv',\n",
       " '/home/phongdk/data_user_income_targeting/address_from_2018-11-14_to_2018-11-27_file26.csv',\n",
       " '/home/phongdk/data_user_income_targeting/address_from_2018-11-14_to_2018-11-27_file27.csv',\n",
       " '/home/phongdk/data_user_income_targeting/address_from_2018-11-14_to_2018-11-27_file28.csv',\n",
       " '/home/phongdk/data_user_income_targeting/address_from_2018-11-14_to_2018-11-27_file29.csv',\n",
       " '/home/phongdk/data_user_income_targeting/address_from_2018-11-14_to_2018-11-27_file30.csv',\n",
       " '/home/phongdk/data_user_income_targeting/address_from_2018-11-14_to_2018-11-27_file31.csv']"
      ]
     },
     "execution_count": 14,
     "metadata": {},
     "output_type": "execute_result"
    }
   ],
   "source": [
    "df_dask_user_list_provinces.to_csv(os.path.join(PATH, \"address_from_{}_to_{}_file*.csv\".format(from_date, end_date)), index=True)"
   ]
  },
  {
   "cell_type": "code",
   "execution_count": null,
   "metadata": {},
   "outputs": [],
   "source": []
  }
 ],
 "metadata": {
  "kernelspec": {
   "display_name": "Python 3",
   "language": "python",
   "name": "python3"
  },
  "language_info": {
   "codemirror_mode": {
    "name": "ipython",
    "version": 3
   },
   "file_extension": ".py",
   "mimetype": "text/x-python",
   "name": "python",
   "nbconvert_exporter": "python",
   "pygments_lexer": "ipython3",
   "version": "3.6.8"
  }
 },
 "nbformat": 4,
 "nbformat_minor": 2
}
