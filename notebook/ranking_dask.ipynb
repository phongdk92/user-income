{
 "cells": [
  {
   "cell_type": "code",
   "execution_count": 1,
   "metadata": {},
   "outputs": [],
   "source": [
    "import os\n",
    "import gc\n",
    "import time\n",
    "import numpy as np\n",
    "import pandas as pd\n",
    "import sys\n",
    "\n",
    "sys.path.append('../python/property')\n",
    "sys.path.append('../python/score')\n",
    "sys.path.append('../python/administrativeArea/')\n",
    "import warnings\n",
    "\n",
    "warnings.filterwarnings(\"ignore\")\n",
    "\n",
    "from airline import Airline\n",
    "from hotel import Hotel\n",
    "from luxury import Luxury\n",
    "from tour import Tour\n",
    "from shopping import Shopping\n",
    "from resort import Resort\n",
    "from gender import Gender\n",
    "from age import Age\n",
    "from device import Device\n",
    "\n",
    "import dask.dataframe as dd\n",
    "from dask.distributed import Client, LocalCluster\n",
    "from dask.multiprocessing import get\n",
    "from ranking import load_data, process_url_property, process_demography, process_hardware, get_unique_user_id\n",
    "from vietnamADM import AdministrativeArea"
   ]
  },
  {
   "cell_type": "code",
   "execution_count": 2,
   "metadata": {},
   "outputs": [
    {
     "data": {
      "text/html": [
       "<table style=\"border: 2px solid white;\">\n",
       "<tr>\n",
       "<td style=\"vertical-align: top; border: 0px solid white\">\n",
       "<h3>Client</h3>\n",
       "<ul>\n",
       "  <li><b>Scheduler: </b>tcp://10.3.0.79:45407\n",
       "  <li><b>Dashboard: </b><a href='http://10.3.0.79:8787/status' target='_blank'>http://10.3.0.79:8787/status</a>\n",
       "</ul>\n",
       "</td>\n",
       "<td style=\"vertical-align: top; border: 0px solid white\">\n",
       "<h3>Cluster</h3>\n",
       "<ul>\n",
       "  <li><b>Workers: </b>8</li>\n",
       "  <li><b>Cores: </b>40</li>\n",
       "  <li><b>Memory: </b>270.38 GB</li>\n",
       "</ul>\n",
       "</td>\n",
       "</tr>\n",
       "</table>"
      ],
      "text/plain": [
       "<Client: scheduler='tcp://10.3.0.79:45407' processes=8 cores=40>"
      ]
     },
     "execution_count": 2,
     "metadata": {},
     "output_type": "execute_result"
    }
   ],
   "source": [
    "cluster = LocalCluster(ip=\"0.0.0.0\")\n",
    "client = Client(cluster)\n",
    "client"
   ]
  },
  {
   "cell_type": "code",
   "execution_count": 3,
   "metadata": {},
   "outputs": [],
   "source": [
    "from_date = '2018-11-14'\n",
    "end_date = '2018-11-27'\n",
    "PATH = '/home/phongdk/data_user_income_targeting'\n",
    "VNM_ADM_PATH = '/home/phongdk/VNM_adm'\n",
    "if not os.path.exists(PATH):\n",
    "    os.makedirs(PATH)\n",
    "\n",
    "filename_demography = \"demography_from_{}_to_{}.csv.gz\".format(from_date, end_date)\n",
    "filename_hardware = \"hardware_from_{}_to_{}.csv.gz\".format(from_date, end_date)\n",
    "filename_location = \"location_from_{}_to_{}.csv.gz\".format(from_date, end_date)\n",
    "\n",
    "filename_airline = \"airline_from_{}_to_{}.csv.gz\".format(from_date, end_date)\n",
    "filename_luxury = \"luxury_from_{}_to_{}.csv.gz\".format(from_date, end_date)\n",
    "filename_booking_resort = \"booking_resort_from_{}_to_{}.csv.gz\".format(from_date, end_date)\n",
    "filename_booking_hotel = \"booking_hotel_from_{}_to_{}.csv.gz\".format(from_date, end_date)\n",
    "filename_tour = \"tour_from_{}_to_{}.csv.gz\".format(from_date, end_date)\n",
    "filename_shopping = \"shopping_from_{}_to_{}.csv.gz\".format(from_date, end_date)\n",
    "filename_based_url = [filename_airline, filename_luxury, filename_booking_resort, filename_booking_hotel,\n",
    "                      filename_tour, filename_shopping]\n",
    "class_property_based_url = [Airline('airline'), Luxury('luxury'), Resort('resort'), Hotel('hotel'),\n",
    "                            Tour('tour'), Shopping('shopping')]\n",
    "\n",
    "\n",
    "assert len(filename_based_url) == len(class_property_based_url)"
   ]
  },
  {
   "cell_type": "code",
   "execution_count": null,
   "metadata": {},
   "outputs": [],
   "source": [
    "def process_location(path, filename, nrows=None):\n",
    "    vn_adm = AdministrativeArea(VNM_ADM_PATH)\n",
    "    df = load_data(path, filename, nrows=nrows) #pd.read_csv(os.path.join(PATH, filename_location))  # , nrows=5000)\n",
    "    df_dask = dd.from_pandas(df, npartitions=32)    # convert to DASK Dataframe\n",
    "    '''find address from lat lon'''\n",
    "    address = df_dask.apply(lambda x: vn_adm.find_address(x['lat'], x['lon']), axis=1).compute()\n",
    "    df_dask = df_dask.assign(**{'address': address})\n",
    "    return df_dask"
   ]
  },
  {
   "cell_type": "code",
   "execution_count": 4,
   "metadata": {},
   "outputs": [
    {
     "name": "stdout",
     "output_type": "stream",
     "text": [
      "Load dictionary from: ../../external_data/location/lat_lon_to_location.csv.gz\n",
      "Load data from file : location_from_2018-11-14_to_2018-11-27.csv.gz\n"
     ]
    }
   ],
   "source": [
    "vn_adm = AdministrativeArea(VNM_ADM_PATH)\n",
    "df = load_data(PATH, filename_location, nrows=1000) #pd.read_csv(os.path.join(PATH, filename_location))  # , nrows=5000)"
   ]
  },
  {
   "cell_type": "code",
   "execution_count": 5,
   "metadata": {},
   "outputs": [
    {
     "data": {
      "text/html": [
       "<div>\n",
       "<style scoped>\n",
       "    .dataframe tbody tr th:only-of-type {\n",
       "        vertical-align: middle;\n",
       "    }\n",
       "\n",
       "    .dataframe tbody tr th {\n",
       "        vertical-align: top;\n",
       "    }\n",
       "\n",
       "    .dataframe thead th {\n",
       "        text-align: right;\n",
       "    }\n",
       "</style>\n",
       "<table border=\"1\" class=\"dataframe\">\n",
       "  <thead>\n",
       "    <tr style=\"text-align: right;\">\n",
       "      <th></th>\n",
       "      <th>user_id</th>\n",
       "      <th>lat</th>\n",
       "      <th>lon</th>\n",
       "    </tr>\n",
       "  </thead>\n",
       "  <tbody>\n",
       "    <tr>\n",
       "      <th>0</th>\n",
       "      <td>4179731125044</td>\n",
       "      <td>10.9545</td>\n",
       "      <td>108.064</td>\n",
       "    </tr>\n",
       "    <tr>\n",
       "      <th>1</th>\n",
       "      <td>10846855546626</td>\n",
       "      <td>10.7398</td>\n",
       "      <td>106.705</td>\n",
       "    </tr>\n",
       "    <tr>\n",
       "      <th>2</th>\n",
       "      <td>10846855546626</td>\n",
       "      <td>10.7405</td>\n",
       "      <td>106.694</td>\n",
       "    </tr>\n",
       "    <tr>\n",
       "      <th>3</th>\n",
       "      <td>10846855546626</td>\n",
       "      <td>10.7405</td>\n",
       "      <td>106.695</td>\n",
       "    </tr>\n",
       "    <tr>\n",
       "      <th>4</th>\n",
       "      <td>10846855546626</td>\n",
       "      <td>10.7479</td>\n",
       "      <td>106.705</td>\n",
       "    </tr>\n",
       "  </tbody>\n",
       "</table>\n",
       "</div>"
      ],
      "text/plain": [
       "          user_id      lat      lon\n",
       "0   4179731125044  10.9545  108.064\n",
       "1  10846855546626  10.7398  106.705\n",
       "2  10846855546626  10.7405  106.694\n",
       "3  10846855546626  10.7405  106.695\n",
       "4  10846855546626  10.7479  106.705"
      ]
     },
     "execution_count": 5,
     "metadata": {},
     "output_type": "execute_result"
    }
   ],
   "source": [
    "df.head()"
   ]
  },
  {
   "cell_type": "code",
   "execution_count": 6,
   "metadata": {},
   "outputs": [],
   "source": [
    "df['address'] = df.apply(lambda x: vn_adm.find_address(x['lat'], x['lon']), axis=1)"
   ]
  },
  {
   "cell_type": "code",
   "execution_count": 7,
   "metadata": {},
   "outputs": [
    {
     "data": {
      "text/plain": [
       "(472, 2)"
      ]
     },
     "execution_count": 7,
     "metadata": {},
     "output_type": "execute_result"
    }
   ],
   "source": [
    "df = df[['user_id', 'address']].drop_duplicates(subset=['user_id', 'address'])  \n",
    "df.shape"
   ]
  },
  {
   "cell_type": "code",
   "execution_count": 21,
   "metadata": {},
   "outputs": [
    {
     "data": {
      "text/plain": [
       "(280, 1)"
      ]
     },
     "execution_count": 21,
     "metadata": {},
     "output_type": "execute_result"
    }
   ],
   "source": [
    "df_regions = df.groupby('user_id')['address'].apply(list).to_frame()\n",
    "df_regions.shape"
   ]
  },
  {
   "cell_type": "code",
   "execution_count": 22,
   "metadata": {},
   "outputs": [
    {
     "data": {
      "text/html": [
       "<div>\n",
       "<style scoped>\n",
       "    .dataframe tbody tr th:only-of-type {\n",
       "        vertical-align: middle;\n",
       "    }\n",
       "\n",
       "    .dataframe tbody tr th {\n",
       "        vertical-align: top;\n",
       "    }\n",
       "\n",
       "    .dataframe thead th {\n",
       "        text-align: right;\n",
       "    }\n",
       "</style>\n",
       "<table border=\"1\" class=\"dataframe\">\n",
       "  <thead>\n",
       "    <tr style=\"text-align: right;\">\n",
       "      <th></th>\n",
       "      <th>address</th>\n",
       "    </tr>\n",
       "    <tr>\n",
       "      <th>user_id</th>\n",
       "      <th></th>\n",
       "    </tr>\n",
       "  </thead>\n",
       "  <tbody>\n",
       "    <tr>\n",
       "      <th>106243222964128</th>\n",
       "      <td>[aboard]</td>\n",
       "    </tr>\n",
       "    <tr>\n",
       "      <th>10846855546626</th>\n",
       "      <td>[hồ chí minh]</td>\n",
       "    </tr>\n",
       "    <tr>\n",
       "      <th>111426187200876</th>\n",
       "      <td>[lệ thủy, quảng bình, đồng hới, quảng bình, bố...</td>\n",
       "    </tr>\n",
       "    <tr>\n",
       "      <th>111479027414108</th>\n",
       "      <td>[hà nội]</td>\n",
       "    </tr>\n",
       "    <tr>\n",
       "      <th>111863491531868</th>\n",
       "      <td>[hồ chí minh, mang yang, gia lai, đà nẵng, huế...</td>\n",
       "    </tr>\n",
       "  </tbody>\n",
       "</table>\n",
       "</div>"
      ],
      "text/plain": [
       "                                                           address\n",
       "user_id                                                           \n",
       "106243222964128                                           [aboard]\n",
       "10846855546626                                       [hồ chí minh]\n",
       "111426187200876  [lệ thủy, quảng bình, đồng hới, quảng bình, bố...\n",
       "111479027414108                                           [hà nội]\n",
       "111863491531868  [hồ chí minh, mang yang, gia lai, đà nẵng, huế..."
      ]
     },
     "execution_count": 22,
     "metadata": {},
     "output_type": "execute_result"
    }
   ],
   "source": [
    "df_regions.head()"
   ]
  },
  {
   "cell_type": "code",
   "execution_count": 24,
   "metadata": {},
   "outputs": [
    {
     "data": {
      "text/plain": [
       "['hồ chí minh', 'mang yang, gia lai', 'đà nẵng', 'huế, thừa thiên huế']"
      ]
     },
     "execution_count": 24,
     "metadata": {},
     "output_type": "execute_result"
    }
   ],
   "source": [
    "df_regions.iloc[4]['address']"
   ]
  },
  {
   "cell_type": "code",
   "execution_count": 28,
   "metadata": {},
   "outputs": [],
   "source": [
    "def is_traveller_by_checking_locations(list_places):\n",
    "    THRESHOLD_TRAVELLER = 2\n",
    "    score_traveller = {\"traveller\": 5.0,\n",
    "                       \"non-traveller\": 0}\n",
    "    provinces = list(set([place.split(\",\")[-1] for place in list_places]))\n",
    "    return score_traveller['traveller'] if len(provinces) > THRESHOLD_TRAVELLER else score_traveller['non-traveller']"
   ]
  },
  {
   "cell_type": "code",
   "execution_count": 31,
   "metadata": {},
   "outputs": [],
   "source": [
    "def get_score(list_places):\n",
    "    score = {\"hồ chí minh\" : 5.0,\n",
    "            \"hà nội\": 5.0,\n",
    "            \"others\": 1}\n",
    "    list_scores = [] \n",
    "    for place in list_places:\n",
    "        try:\n",
    "            list_scores.append(score[place])\n",
    "        except:\n",
    "            list_scores.append(score['others'])\n",
    "    score = np.max(list_scores)\n",
    "    return score"
   ]
  },
  {
   "cell_type": "code",
   "execution_count": 29,
   "metadata": {},
   "outputs": [],
   "source": [
    "df_regions['traveller'] =  df_regions['address'].apply(lambda x: is_traveller_by_checking_locations(x))"
   ]
  },
  {
   "cell_type": "code",
   "execution_count": 32,
   "metadata": {},
   "outputs": [],
   "source": [
    "df_regions['address_score'] = df_regions['address'].apply(lambda x: get_score(x))"
   ]
  },
  {
   "cell_type": "code",
   "execution_count": 33,
   "metadata": {},
   "outputs": [
    {
     "data": {
      "text/html": [
       "<div>\n",
       "<style scoped>\n",
       "    .dataframe tbody tr th:only-of-type {\n",
       "        vertical-align: middle;\n",
       "    }\n",
       "\n",
       "    .dataframe tbody tr th {\n",
       "        vertical-align: top;\n",
       "    }\n",
       "\n",
       "    .dataframe thead th {\n",
       "        text-align: right;\n",
       "    }\n",
       "</style>\n",
       "<table border=\"1\" class=\"dataframe\">\n",
       "  <thead>\n",
       "    <tr style=\"text-align: right;\">\n",
       "      <th></th>\n",
       "      <th>address</th>\n",
       "      <th>traveller</th>\n",
       "      <th>address_score</th>\n",
       "    </tr>\n",
       "    <tr>\n",
       "      <th>user_id</th>\n",
       "      <th></th>\n",
       "      <th></th>\n",
       "      <th></th>\n",
       "    </tr>\n",
       "  </thead>\n",
       "  <tbody>\n",
       "    <tr>\n",
       "      <th>106243222964128</th>\n",
       "      <td>[aboard]</td>\n",
       "      <td>0.0</td>\n",
       "      <td>1.0</td>\n",
       "    </tr>\n",
       "    <tr>\n",
       "      <th>10846855546626</th>\n",
       "      <td>[hồ chí minh]</td>\n",
       "      <td>0.0</td>\n",
       "      <td>5.0</td>\n",
       "    </tr>\n",
       "    <tr>\n",
       "      <th>111426187200876</th>\n",
       "      <td>[lệ thủy, quảng bình, đồng hới, quảng bình, bố...</td>\n",
       "      <td>0.0</td>\n",
       "      <td>1.0</td>\n",
       "    </tr>\n",
       "    <tr>\n",
       "      <th>111479027414108</th>\n",
       "      <td>[hà nội]</td>\n",
       "      <td>0.0</td>\n",
       "      <td>5.0</td>\n",
       "    </tr>\n",
       "    <tr>\n",
       "      <th>111863491531868</th>\n",
       "      <td>[hồ chí minh, mang yang, gia lai, đà nẵng, huế...</td>\n",
       "      <td>5.0</td>\n",
       "      <td>5.0</td>\n",
       "    </tr>\n",
       "    <tr>\n",
       "      <th>115617306757219</th>\n",
       "      <td>[long xuyên, an giang, hồ chí minh]</td>\n",
       "      <td>0.0</td>\n",
       "      <td>5.0</td>\n",
       "    </tr>\n",
       "    <tr>\n",
       "      <th>116830224482424</th>\n",
       "      <td>[thạnh phú, bến tre, giồng trôm, bến tre, mỏ c...</td>\n",
       "      <td>0.0</td>\n",
       "      <td>1.0</td>\n",
       "    </tr>\n",
       "    <tr>\n",
       "      <th>119609590444140</th>\n",
       "      <td>[hồ chí minh]</td>\n",
       "      <td>0.0</td>\n",
       "      <td>5.0</td>\n",
       "    </tr>\n",
       "    <tr>\n",
       "      <th>123905934427628</th>\n",
       "      <td>[hồ chí minh]</td>\n",
       "      <td>0.0</td>\n",
       "      <td>5.0</td>\n",
       "    </tr>\n",
       "    <tr>\n",
       "      <th>135176662268404</th>\n",
       "      <td>[vũng tàu, bà rịa-vũng tàu, long điền, bà rịa-...</td>\n",
       "      <td>0.0</td>\n",
       "      <td>1.0</td>\n",
       "    </tr>\n",
       "  </tbody>\n",
       "</table>\n",
       "</div>"
      ],
      "text/plain": [
       "                                                           address  traveller  \\\n",
       "user_id                                                                         \n",
       "106243222964128                                           [aboard]        0.0   \n",
       "10846855546626                                       [hồ chí minh]        0.0   \n",
       "111426187200876  [lệ thủy, quảng bình, đồng hới, quảng bình, bố...        0.0   \n",
       "111479027414108                                           [hà nội]        0.0   \n",
       "111863491531868  [hồ chí minh, mang yang, gia lai, đà nẵng, huế...        5.0   \n",
       "115617306757219                [long xuyên, an giang, hồ chí minh]        0.0   \n",
       "116830224482424  [thạnh phú, bến tre, giồng trôm, bến tre, mỏ c...        0.0   \n",
       "119609590444140                                      [hồ chí minh]        0.0   \n",
       "123905934427628                                      [hồ chí minh]        0.0   \n",
       "135176662268404  [vũng tàu, bà rịa-vũng tàu, long điền, bà rịa-...        0.0   \n",
       "\n",
       "                 address_score  \n",
       "user_id                         \n",
       "106243222964128            1.0  \n",
       "10846855546626             5.0  \n",
       "111426187200876            1.0  \n",
       "111479027414108            5.0  \n",
       "111863491531868            5.0  \n",
       "115617306757219            5.0  \n",
       "116830224482424            1.0  \n",
       "119609590444140            5.0  \n",
       "123905934427628            5.0  \n",
       "135176662268404            1.0  "
      ]
     },
     "execution_count": 33,
     "metadata": {},
     "output_type": "execute_result"
    },
    {
     "name": "stderr",
     "output_type": "stream",
     "text": [
      "distributed.comm.tcp - WARNING - Closing dangling stream in <TCP local=tcp://10.3.0.79:50450 remote=tcp://10.3.0.79:45407>\n",
      "distributed.comm.tcp - WARNING - Closing dangling stream in <TCP local=tcp://10.3.0.79:50454 remote=tcp://10.3.0.79:45407>\n",
      "distributed.comm.tcp - WARNING - Closing dangling stream in <TCP local=tcp://10.3.0.79:50456 remote=tcp://10.3.0.79:45407>\n",
      "distributed.comm.tcp - WARNING - Closing dangling stream in <TCP local=tcp://10.3.0.79:50458 remote=tcp://10.3.0.79:45407>\n",
      "distributed.comm.tcp - WARNING - Closing dangling stream in <TCP local=tcp://10.3.0.79:50460 remote=tcp://10.3.0.79:45407>\n",
      "distributed.comm.tcp - WARNING - Closing dangling stream in <TCP local=tcp://10.3.0.79:50462 remote=tcp://10.3.0.79:45407>\n",
      "distributed.comm.tcp - WARNING - Closing dangling stream in <TCP local=tcp://10.3.0.79:50464 remote=tcp://10.3.0.79:45407>\n",
      "distributed.comm.tcp - WARNING - Closing dangling stream in <TCP local=tcp://10.3.0.79:50466 remote=tcp://10.3.0.79:45407>\n",
      "distributed.comm.tcp - WARNING - Closing dangling stream in <TCP local=tcp://10.3.0.79:50468 remote=tcp://10.3.0.79:45407>\n",
      "distributed.comm.tcp - WARNING - Closing dangling stream in <TCP local=tcp://10.3.0.79:50474 remote=tcp://10.3.0.79:45407>\n",
      "distributed.comm.tcp - WARNING - Closing dangling stream in <TCP local=tcp://10.3.0.79:50476 remote=tcp://10.3.0.79:45407>\n",
      "distributed.comm.tcp - WARNING - Closing dangling stream in <TCP local=tcp://10.3.0.79:50478 remote=tcp://10.3.0.79:45407>\n"
     ]
    }
   ],
   "source": [
    "df_regions.head(10)"
   ]
  },
  {
   "cell_type": "code",
   "execution_count": null,
   "metadata": {},
   "outputs": [],
   "source": [
    "df_dask = dd.from_pandas(df, npartitions=32)    # convert to DASK Dataframe"
   ]
  },
  {
   "cell_type": "code",
   "execution_count": null,
   "metadata": {},
   "outputs": [],
   "source": [
    "df_location = process_location(PATH, filename_location, nrows=10000)"
   ]
  },
  {
   "cell_type": "code",
   "execution_count": null,
   "metadata": {},
   "outputs": [],
   "source": []
  },
  {
   "cell_type": "code",
   "execution_count": null,
   "metadata": {},
   "outputs": [],
   "source": [
    "df_demography = process_demography(PATH, filename_demography, nrows=1000)\n",
    "df_hardware = process_hardware_location(PATH, filename_hardware, nrows=1000)\n",
    "\n",
    "\n",
    "\n",
    "list_df = [df_demography, df_hardware]\n",
    "for (filename, class_property) in zip(filename_based_url, class_property_based_url):\n",
    "    list_df.append(process_url_property(PATH, filename, count_name=class_property.get_name(),\n",
    "                                        threshold=class_property.get_threshold()))\n",
    "\n",
    "    "
   ]
  },
  {
   "cell_type": "code",
   "execution_count": null,
   "metadata": {
    "scrolled": true
   },
   "outputs": [],
   "source": [
    "df_demography.head()"
   ]
  },
  {
   "cell_type": "code",
   "execution_count": null,
   "metadata": {},
   "outputs": [],
   "source": [
    "df_hardware.head()"
   ]
  },
  {
   "cell_type": "code",
   "execution_count": null,
   "metadata": {},
   "outputs": [],
   "source": [
    "def merge_data(list_df, numeric_col):\n",
    "    print(\"-----------------------Merge data-----------------------------\")\n",
    "    list_dask_df = [dd.from_pandas(df, npartitions=4) for df in list_df]  # convert to Dask DF with chunksize 64MB\n",
    "\n",
    "    for (i, df) in enumerate(list_dask_df):\n",
    "        if i == 0:\n",
    "            df_total = df[:]\n",
    "        else:\n",
    "            df_total = df_total.merge(df, left_index=True, right_index=True, how='outer')\n",
    "    print(type(df_total))\n",
    "    df_total = df_total.fillna(-1)\n",
    "#     for col in numeric_col:\n",
    "#         df_total[col] = df_total[col].map_partitions(pd.to_numeric).compute()\n",
    "\n",
    "    return df_total"
   ]
  },
  {
   "cell_type": "code",
   "execution_count": null,
   "metadata": {
    "scrolled": false
   },
   "outputs": [],
   "source": [
    "%%time\n",
    "numeric_columns =['gender', 'age']\n",
    "df_total = merge_data(list_df, numeric_columns)"
   ]
  },
  {
   "cell_type": "code",
   "execution_count": null,
   "metadata": {},
   "outputs": [],
   "source": [
    "len(df_total.columns)"
   ]
  },
  {
   "cell_type": "code",
   "execution_count": null,
   "metadata": {},
   "outputs": [],
   "source": [
    "len(df_total)"
   ]
  },
  {
   "cell_type": "code",
   "execution_count": null,
   "metadata": {},
   "outputs": [],
   "source": [
    "properties = [Gender('gender'), Age('age')] + class_property_based_url + [Device('device')]\n",
    "#properties = [Gender('gender'), Age('age')] + class_property_based_url"
   ]
  },
  {
   "cell_type": "code",
   "execution_count": null,
   "metadata": {},
   "outputs": [],
   "source": [
    "print(properties)"
   ]
  },
  {
   "cell_type": "code",
   "execution_count": null,
   "metadata": {
    "scrolled": true
   },
   "outputs": [],
   "source": [
    "# for (i, proper) in enumerate(properties):\n",
    "#     col = proper.get_name()\n",
    "#     print(i, col)\n",
    "#     #df_dask = df_total.map_partitions(lambda x: proper.get_score(x[col]), meta=object)\n",
    "#     #df_dask = df_total.map_partitions(lambda df: df.apply(lambda x: 10, axis=1)).compute()\n",
    "#     #df_dask = df_total[col].map_partitions(lambda x: x.values[0], meta={col:'i8'}).compute()\n",
    "#     print(proper.get_score(1))\n",
    "#     print(df_total[col].unique().compute())\n",
    "#     df_dask = df_total[col].apply(lambda x: properties[i].get_score(int(x))).compute()\n",
    "#     name = col + \"_score\"\n",
    "#     df_total = df_total.assign(**{name : df_dask})"
   ]
  },
  {
   "cell_type": "code",
   "execution_count": null,
   "metadata": {},
   "outputs": [],
   "source": [
    "#df_total.to_csv('/home/phongdk/tmp/*.csv')"
   ]
  },
  {
   "cell_type": "code",
   "execution_count": null,
   "metadata": {},
   "outputs": [],
   "source": [
    "def compute_score(df, properties):\n",
    "    print('----------------------Compute SCORE ---------------------------')\n",
    "    for (i, proper) in enumerate(properties):\n",
    "        print(proper)\n",
    "        col = proper.get_name()\n",
    "        if (col == 'device'):\n",
    "            df_dask = df[['os_name', 'hw_class', 'cpu', 'sys_ram_mb',\n",
    "                                     'screen_height', 'screen_width']].apply(lambda x: proper.get_score(x), axis=1)\n",
    "        else:\n",
    "            df_dask = df[col].apply(lambda x: proper.get_score(x)).compute()\n",
    "        df = df.assign(**{col + \"_score\" : df_dask})\n",
    "        \n",
    "    #print(\"Memory usage of properties dataframe is :\", df.memory_usage().sum() / 1024 ** 2, \" MB\")\n",
    "    col_score = [col for col in df.columns if 'score' in col]\n",
    "    df = df[col_score]\n",
    "    #df['total_score'] = df.sum(axis=1).compute()\n",
    "    #df.to_csv('/home/phongdk/tmp/score2.csv.gz', compression='gzip', index=True)\n",
    "    #print(df.head())\n",
    "    return df"
   ]
  },
  {
   "cell_type": "code",
   "execution_count": null,
   "metadata": {},
   "outputs": [],
   "source": [
    "df_score = compute_score(df_total, properties)\n",
    "#print(\"--- %s seconds ---\" % (time.time() - start_time))\n"
   ]
  },
  {
   "cell_type": "code",
   "execution_count": null,
   "metadata": {},
   "outputs": [],
   "source": [
    "df_score.head()"
   ]
  },
  {
   "cell_type": "code",
   "execution_count": null,
   "metadata": {},
   "outputs": [],
   "source": [
    "df_score['total_score'] = df_score.sum(axis=1).compute()"
   ]
  },
  {
   "cell_type": "code",
   "execution_count": null,
   "metadata": {},
   "outputs": [],
   "source": [
    "df_score.head()"
   ]
  },
  {
   "cell_type": "code",
   "execution_count": null,
   "metadata": {},
   "outputs": [],
   "source": [
    "df_score['hotel_score'].unique().compute()"
   ]
  },
  {
   "cell_type": "code",
   "execution_count": null,
   "metadata": {},
   "outputs": [],
   "source": []
  }
 ],
 "metadata": {
  "kernelspec": {
   "display_name": "Python 3",
   "language": "python",
   "name": "python3"
  },
  "language_info": {
   "codemirror_mode": {
    "name": "ipython",
    "version": 3
   },
   "file_extension": ".py",
   "mimetype": "text/x-python",
   "name": "python",
   "nbconvert_exporter": "python",
   "pygments_lexer": "ipython3",
   "version": "3.6.8"
  }
 },
 "nbformat": 4,
 "nbformat_minor": 2
}
