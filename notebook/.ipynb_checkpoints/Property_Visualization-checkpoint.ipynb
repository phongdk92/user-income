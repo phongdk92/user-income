{
 "cells": [
  {
   "cell_type": "code",
   "execution_count": 17,
   "metadata": {},
   "outputs": [],
   "source": [
    "import os\n",
    "import numpy as np\n",
    "import pandas as pd\n",
    "import seaborn as sns\n",
    "import matplotlib.gridspec as gridspec\n",
    "import matplotlib.pyplot as plt\n",
    "%matplotlib inline"
   ]
  },
  {
   "cell_type": "code",
   "execution_count": 4,
   "metadata": {},
   "outputs": [],
   "source": [
    "from_date = '2018-11-14'\n",
    "end_date = '2018-11-27'\n",
    "\n",
    "PATH = '/home/phongdk/data_user_income_targeting'\n",
    "if not os.path.exists(PATH):\n",
    "    os.makedirs(PATH)\n",
    "\n",
    "filename_demography = \"demography_from_{}_to_{}.csv.gz\".format(from_date, end_date)\n",
    "filename_hardware_location = \"hardware_lat_lon_from_{}_to_{}.csv.gz\".format(from_date, end_date)\n",
    "\n",
    "filename_airline = \"airline_from_{}_to_{}.csv.gz\".format(from_date, end_date)\n",
    "filename_luxury = \"luxury_from_{}_to_{}.csv.gz\".format(from_date, end_date)\n",
    "filename_booking_resort = \"booking_resort_from_{}_to_{}.csv.gz\".format(from_date, end_date)\n",
    "filename_booking_hotel = \"booking_hotel_from_{}_to_{}.csv.gz\".format(from_date, end_date)\n",
    "filename_tour = \"tour_from_{}_to_{}.csv.gz\".format(from_date, end_date)\n",
    "filename_shopping = \"shopping_from_{}_to_{}.csv.gz\".format(from_date, end_date)"
   ]
  },
  {
   "cell_type": "markdown",
   "metadata": {},
   "source": [
    "# Visulize histogram of each property"
   ]
  },
  {
   "cell_type": "code",
   "execution_count": 12,
   "metadata": {},
   "outputs": [],
   "source": [
    "def show_histogram(df, filename):\n",
    "    sns.distplot(df['count'])\n",
    "    plt.title(filename.split('_')[0])"
   ]
  },
  {
   "cell_type": "code",
   "execution_count": 13,
   "metadata": {
    "scrolled": true
   },
   "outputs": [],
   "source": [
    "df_airline = pd.read_csv(os.path.join(PATH, filename_airline))\n",
    "df_luxury = pd.read_csv(os.path.join(PATH, filename_luxury))\n",
    "df_booking_resort = pd.read_csv(os.path.join(PATH, filename_booking_resort))\n",
    "df_booking_hotel = pd.read_csv(os.path.join(PATH, filename_booking_hotel))\n",
    "df_tour = pd.read_csv(os.path.join(PATH, filename_tour))\n",
    "df_shopping = pd.read_csv(os.path.join(PATH, filename_shopping))"
   ]
  },
  {
   "cell_type": "code",
   "execution_count": 18,
   "metadata": {},
   "outputs": [],
   "source": [
    "gs = gridspec.GridSpec(nrows=3, ncols=2)"
   ]
  },
  {
   "cell_type": "code",
   "execution_count": null,
   "metadata": {},
   "outputs": [],
   "source": [
    "filenames = [filename_airline, filename_luxury, filename_booking_resort, \n",
    "             filename_booking_hotel, filename_tour, filename_shopping]\n",
    "list_df = [pd.read_csv(os.path.join(PATH,filename) for filename in filenames]\n",
    "for i in range(3):\n",
    "    for j in range(2):\n",
    "        plt.subplot(gs[i,j])\n",
    "        show_histogram()"
   ]
  }
 ],
 "metadata": {
  "kernelspec": {
   "display_name": "Python 3",
   "language": "python",
   "name": "python3"
  },
  "language_info": {
   "codemirror_mode": {
    "name": "ipython",
    "version": 3
   },
   "file_extension": ".py",
   "mimetype": "text/x-python",
   "name": "python",
   "nbconvert_exporter": "python",
   "pygments_lexer": "ipython3",
   "version": "3.6.6"
  }
 },
 "nbformat": 4,
 "nbformat_minor": 2
}
