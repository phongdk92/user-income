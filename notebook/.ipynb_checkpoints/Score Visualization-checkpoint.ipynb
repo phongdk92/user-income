{
 "cells": [
  {
   "cell_type": "markdown",
   "metadata": {},
   "source": [
    "# Date: 2018-11-14 to 2018-11-27"
   ]
  },
  {
   "cell_type": "code",
   "execution_count": 1,
   "metadata": {},
   "outputs": [],
   "source": [
    "import os\n",
    "import gc\n",
    "import numpy as np\n",
    "import pandas as pd\n",
    "import seaborn as sns\n",
    "import matplotlib.gridspec as gridspec\n",
    "import matplotlib.pyplot as plt\n",
    "%matplotlib inline"
   ]
  },
  {
   "cell_type": "code",
   "execution_count": 2,
   "metadata": {},
   "outputs": [
    {
     "data": {
      "text/plain": [
       "(18474650, 10)"
      ]
     },
     "execution_count": 2,
     "metadata": {},
     "output_type": "execute_result"
    }
   ],
   "source": [
    "filename = '/home/phongdk/tmp/score.csv.gz'\n",
    "df = pd.read_csv(filename, dtype={'user_id':str}, index_col='user_id')\n",
    "df.shape"
   ]
  },
  {
   "cell_type": "code",
   "execution_count": 3,
   "metadata": {
    "scrolled": true
   },
   "outputs": [
    {
     "data": {
      "text/html": [
       "<div>\n",
       "<style scoped>\n",
       "    .dataframe tbody tr th:only-of-type {\n",
       "        vertical-align: middle;\n",
       "    }\n",
       "\n",
       "    .dataframe tbody tr th {\n",
       "        vertical-align: top;\n",
       "    }\n",
       "\n",
       "    .dataframe thead th {\n",
       "        text-align: right;\n",
       "    }\n",
       "</style>\n",
       "<table border=\"1\" class=\"dataframe\">\n",
       "  <thead>\n",
       "    <tr style=\"text-align: right;\">\n",
       "      <th></th>\n",
       "      <th>gender_score</th>\n",
       "      <th>age_score</th>\n",
       "      <th>os_name_score</th>\n",
       "      <th>airline_score</th>\n",
       "      <th>luxury_score</th>\n",
       "      <th>resort_score</th>\n",
       "      <th>hotel_score</th>\n",
       "      <th>tour_score</th>\n",
       "      <th>shopping_score</th>\n",
       "      <th>total_score</th>\n",
       "    </tr>\n",
       "    <tr>\n",
       "      <th>user_id</th>\n",
       "      <th></th>\n",
       "      <th></th>\n",
       "      <th></th>\n",
       "      <th></th>\n",
       "      <th></th>\n",
       "      <th></th>\n",
       "      <th></th>\n",
       "      <th></th>\n",
       "      <th></th>\n",
       "      <th></th>\n",
       "    </tr>\n",
       "  </thead>\n",
       "  <tbody>\n",
       "    <tr>\n",
       "      <th>1000000056608555144</th>\n",
       "      <td>0.0</td>\n",
       "      <td>0.0</td>\n",
       "      <td>3.2</td>\n",
       "      <td>0.0</td>\n",
       "      <td>0.0</td>\n",
       "      <td>0.0</td>\n",
       "      <td>0.0</td>\n",
       "      <td>0.0</td>\n",
       "      <td>0.0</td>\n",
       "      <td>3.2</td>\n",
       "    </tr>\n",
       "    <tr>\n",
       "      <th>10000001329287489547</th>\n",
       "      <td>5.0</td>\n",
       "      <td>2.0</td>\n",
       "      <td>3.2</td>\n",
       "      <td>0.0</td>\n",
       "      <td>0.0</td>\n",
       "      <td>0.0</td>\n",
       "      <td>0.0</td>\n",
       "      <td>0.0</td>\n",
       "      <td>0.0</td>\n",
       "      <td>10.2</td>\n",
       "    </tr>\n",
       "    <tr>\n",
       "      <th>10000001444874055142</th>\n",
       "      <td>5.0</td>\n",
       "      <td>4.8</td>\n",
       "      <td>0.0</td>\n",
       "      <td>0.0</td>\n",
       "      <td>0.0</td>\n",
       "      <td>0.0</td>\n",
       "      <td>0.0</td>\n",
       "      <td>0.0</td>\n",
       "      <td>0.0</td>\n",
       "      <td>9.8</td>\n",
       "    </tr>\n",
       "    <tr>\n",
       "      <th>10000002801382328183</th>\n",
       "      <td>4.0</td>\n",
       "      <td>4.8</td>\n",
       "      <td>0.0</td>\n",
       "      <td>0.0</td>\n",
       "      <td>0.0</td>\n",
       "      <td>0.0</td>\n",
       "      <td>0.0</td>\n",
       "      <td>0.0</td>\n",
       "      <td>0.0</td>\n",
       "      <td>8.8</td>\n",
       "    </tr>\n",
       "    <tr>\n",
       "      <th>1000000307799104701</th>\n",
       "      <td>0.0</td>\n",
       "      <td>0.0</td>\n",
       "      <td>3.2</td>\n",
       "      <td>0.0</td>\n",
       "      <td>0.0</td>\n",
       "      <td>0.0</td>\n",
       "      <td>0.0</td>\n",
       "      <td>0.0</td>\n",
       "      <td>0.0</td>\n",
       "      <td>3.2</td>\n",
       "    </tr>\n",
       "  </tbody>\n",
       "</table>\n",
       "</div>"
      ],
      "text/plain": [
       "                      gender_score  age_score  os_name_score  airline_score  \\\n",
       "user_id                                                                       \n",
       "1000000056608555144            0.0        0.0            3.2            0.0   \n",
       "10000001329287489547           5.0        2.0            3.2            0.0   \n",
       "10000001444874055142           5.0        4.8            0.0            0.0   \n",
       "10000002801382328183           4.0        4.8            0.0            0.0   \n",
       "1000000307799104701            0.0        0.0            3.2            0.0   \n",
       "\n",
       "                      luxury_score  resort_score  hotel_score  tour_score  \\\n",
       "user_id                                                                     \n",
       "1000000056608555144            0.0           0.0          0.0         0.0   \n",
       "10000001329287489547           0.0           0.0          0.0         0.0   \n",
       "10000001444874055142           0.0           0.0          0.0         0.0   \n",
       "10000002801382328183           0.0           0.0          0.0         0.0   \n",
       "1000000307799104701            0.0           0.0          0.0         0.0   \n",
       "\n",
       "                      shopping_score  total_score  \n",
       "user_id                                            \n",
       "1000000056608555144              0.0          3.2  \n",
       "10000001329287489547             0.0         10.2  \n",
       "10000001444874055142             0.0          9.8  \n",
       "10000002801382328183             0.0          8.8  \n",
       "1000000307799104701              0.0          3.2  "
      ]
     },
     "execution_count": 3,
     "metadata": {},
     "output_type": "execute_result"
    }
   ],
   "source": [
    "df.head()"
   ]
  },
  {
   "cell_type": "code",
   "execution_count": 4,
   "metadata": {},
   "outputs": [],
   "source": [
    "column_name = df.columns"
   ]
  },
  {
   "cell_type": "code",
   "execution_count": 5,
   "metadata": {},
   "outputs": [],
   "source": [
    "# gs = gridspec.GridSpec(nrows=4, ncols=2)\n",
    "# plt.figure(figsize=(30,40))\n",
    "# for r in range(4):\n",
    "#     for c in range(2):\n",
    "#         plt.subplot(gs[r,c])\n",
    "#         col = column_name[r * 2 + c]\n",
    "#         sns.distplot(df[col])\n",
    "#         plt.title(col)"
   ]
  },
  {
   "cell_type": "code",
   "execution_count": 6,
   "metadata": {},
   "outputs": [],
   "source": [
    "def get_value_counts(df):\n",
    "    for col in df.columns:\n",
    "        print(col, \"---------------------\")\n",
    "        print(df[col].value_counts(sort=False).sort_index(ascending=True))"
   ]
  },
  {
   "cell_type": "markdown",
   "metadata": {},
   "source": [
    "# Count frequency for each column"
   ]
  },
  {
   "cell_type": "code",
   "execution_count": 7,
   "metadata": {},
   "outputs": [
    {
     "name": "stdout",
     "output_type": "stream",
     "text": [
      "gender_score ---------------------\n",
      "0.0    5439563\n",
      "4.0    4472359\n",
      "5.0    8562728\n",
      "Name: gender_score, dtype: int64\n",
      "age_score ---------------------\n",
      "0.0    5439563\n",
      "1.0    1056457\n",
      "2.0    6017794\n",
      "4.8    4524522\n",
      "4.9    1075333\n",
      "5.0     360981\n",
      "Name: age_score, dtype: int64\n",
      "os_name_score ---------------------\n",
      "0.0     4471131\n",
      "3.0       28757\n",
      "3.2    12573664\n",
      "3.5     1059484\n",
      "4.0           1\n",
      "4.5      295110\n",
      "5.0       46503\n",
      "Name: os_name_score, dtype: int64\n",
      "airline_score ---------------------\n",
      "0.0    18443012\n",
      "5.0       31638\n",
      "Name: airline_score, dtype: int64\n",
      "luxury_score ---------------------\n",
      "0.0    18438931\n",
      "5.0       35719\n",
      "Name: luxury_score, dtype: int64\n",
      "resort_score ---------------------\n",
      "0.0    18473719\n",
      "5.0         931\n",
      "Name: resort_score, dtype: int64\n",
      "hotel_score ---------------------\n",
      "0.0    18459596\n",
      "4.0       15054\n",
      "Name: hotel_score, dtype: int64\n",
      "tour_score ---------------------\n",
      "0.0    18467659\n",
      "4.0        6991\n",
      "Name: tour_score, dtype: int64\n",
      "shopping_score ---------------------\n",
      "0.0    18033130\n",
      "3.0      441520\n",
      "Name: shopping_score, dtype: int64\n",
      "total_score ---------------------\n",
      "0.0       14985\n",
      "3.0       32841\n",
      "3.2     4694481\n",
      "3.5      579268\n",
      "4.0         119\n",
      "4.5      101808\n",
      "5.0      118413\n",
      "6.0      922366\n",
      "6.2        1345\n",
      "6.5          92\n",
      "7.0     1519162\n",
      "7.2         108\n",
      "7.5          24\n",
      "8.0         135\n",
      "8.2      166787\n",
      "8.5        9889\n",
      "8.8      405345\n",
      "8.9      141151\n",
      "9.0       42412\n",
      "9.2     1580616\n",
      "9.5       58322\n",
      "9.8      971624\n",
      "9.9      244621\n",
      "10.0     100435\n",
      "10.2    2230802\n",
      "10.5     141300\n",
      "11.0       8521\n",
      "11.2      12799\n",
      "11.5      51897\n",
      "12.0    1095695\n",
      "         ...   \n",
      "24.9          1\n",
      "25.0        463\n",
      "25.1         35\n",
      "25.2         36\n",
      "25.3          2\n",
      "25.8          3\n",
      "26.0        178\n",
      "26.1          9\n",
      "26.2         37\n",
      "26.3          2\n",
      "26.8          7\n",
      "27.0         19\n",
      "27.2         15\n",
      "27.8          2\n",
      "28.0         49\n",
      "28.1          1\n",
      "28.2          9\n",
      "28.8          2\n",
      "29.0         66\n",
      "29.1          1\n",
      "29.2          3\n",
      "30.0         18\n",
      "30.1          2\n",
      "30.2         10\n",
      "30.8          3\n",
      "31.0          2\n",
      "31.2          5\n",
      "33.0          8\n",
      "34.0          6\n",
      "35.0          1\n",
      "Name: total_score, Length: 154, dtype: int64\n"
     ]
    }
   ],
   "source": [
    "get_value_counts(df)"
   ]
  },
  {
   "cell_type": "markdown",
   "metadata": {},
   "source": [
    "# Distribution on total_score\n",
    "### Lots of users with low score <=5"
   ]
  },
  {
   "cell_type": "code",
   "execution_count": 8,
   "metadata": {},
   "outputs": [
    {
     "name": "stderr",
     "output_type": "stream",
     "text": [
      "/home/phongdk/anaconda3/lib/python3.6/site-packages/scipy/stats/stats.py:1713: FutureWarning: Using a non-tuple sequence for multidimensional indexing is deprecated; use `arr[tuple(seq)]` instead of `arr[seq]`. In the future this will be interpreted as an array index, `arr[np.array(seq)]`, which will result either in an error or a different result.\n",
      "  return np.add.reduce(sorted[indexer] * weights, axis=axis) / sumval\n"
     ]
    },
    {
     "data": {
      "text/plain": [
       "<matplotlib.axes._subplots.AxesSubplot at 0x7f60a25d12e8>"
      ]
     },
     "execution_count": 8,
     "metadata": {},
     "output_type": "execute_result"
    },
    {
     "data": {
      "image/png": "[encoded data removed]",
      "text/plain": [
       "<Figure size 432x288 with 1 Axes>"
      ]
     },
     "metadata": {
      "needs_background": "light"
     },
     "output_type": "display_data"
    }
   ],
   "source": [
    "sns.distplot(df['total_score'])"
   ]
  },
  {
   "cell_type": "markdown",
   "metadata": {},
   "source": [
    "# Check value counts for all users with total_score < 5\n",
    "- Gender: Unknown\n",
    "- Age: Unknown\n",
    "- Other Properties: Almost score 0.0"
   ]
  },
  {
   "cell_type": "code",
   "execution_count": 9,
   "metadata": {},
   "outputs": [
    {
     "name": "stdout",
     "output_type": "stream",
     "text": [
      "gender_score ---------------------\n",
      "0.0    5423502\n",
      "Name: gender_score, dtype: int64\n",
      "age_score ---------------------\n",
      "0.0    5423502\n",
      "Name: age_score, dtype: int64\n",
      "os_name_score ---------------------\n",
      "0.0      19187\n",
      "3.0      28757\n",
      "3.2    4694481\n",
      "3.5     579268\n",
      "4.0          1\n",
      "4.5     101808\n",
      "Name: os_name_score, dtype: int64\n",
      "airline_score ---------------------\n",
      "0.0    5423502\n",
      "Name: airline_score, dtype: int64\n",
      "luxury_score ---------------------\n",
      "0.0    5423502\n",
      "Name: luxury_score, dtype: int64\n",
      "resort_score ---------------------\n",
      "0.0    5423502\n",
      "Name: resort_score, dtype: int64\n",
      "hotel_score ---------------------\n",
      "0.0    5423414\n",
      "4.0         88\n",
      "Name: hotel_score, dtype: int64\n",
      "tour_score ---------------------\n",
      "0.0    5423472\n",
      "4.0         30\n",
      "Name: tour_score, dtype: int64\n",
      "shopping_score ---------------------\n",
      "0.0    5419418\n",
      "3.0       4084\n",
      "Name: shopping_score, dtype: int64\n",
      "total_score ---------------------\n",
      "0.0      14985\n",
      "3.0      32841\n",
      "3.2    4694481\n",
      "3.5     579268\n",
      "4.0        119\n",
      "4.5     101808\n",
      "Name: total_score, dtype: int64\n"
     ]
    }
   ],
   "source": [
    "get_value_counts(df[df['total_score'] < 5])"
   ]
  },
  {
   "cell_type": "markdown",
   "metadata": {},
   "source": [
    "# Check value counts for all users with total_score >= 5"
   ]
  },
  {
   "cell_type": "code",
   "execution_count": 10,
   "metadata": {},
   "outputs": [
    {
     "name": "stdout",
     "output_type": "stream",
     "text": [
      "gender_score ---------------------\n",
      "0.0      16061\n",
      "4.0    4472359\n",
      "5.0    8562728\n",
      "Name: gender_score, dtype: int64\n",
      "age_score ---------------------\n",
      "0.0      16061\n",
      "1.0    1056457\n",
      "2.0    6017794\n",
      "4.8    4524522\n",
      "4.9    1075333\n",
      "5.0     360981\n",
      "Name: age_score, dtype: int64\n",
      "os_name_score ---------------------\n",
      "0.0    4451944\n",
      "3.2    7879183\n",
      "3.5     480216\n",
      "4.5     193302\n",
      "5.0      46503\n",
      "Name: os_name_score, dtype: int64\n",
      "airline_score ---------------------\n",
      "0.0    13019510\n",
      "5.0       31638\n",
      "Name: airline_score, dtype: int64\n",
      "luxury_score ---------------------\n",
      "0.0    13015429\n",
      "5.0       35719\n",
      "Name: luxury_score, dtype: int64\n",
      "resort_score ---------------------\n",
      "0.0    13050217\n",
      "5.0         931\n",
      "Name: resort_score, dtype: int64\n",
      "hotel_score ---------------------\n",
      "0.0    13036182\n",
      "4.0       14966\n",
      "Name: hotel_score, dtype: int64\n",
      "tour_score ---------------------\n",
      "0.0    13044187\n",
      "4.0        6961\n",
      "Name: tour_score, dtype: int64\n",
      "shopping_score ---------------------\n",
      "0.0    12613712\n",
      "3.0      437436\n",
      "Name: shopping_score, dtype: int64\n",
      "total_score ---------------------\n",
      "5.0      118413\n",
      "6.0      922366\n",
      "6.2        1345\n",
      "6.5          92\n",
      "7.0     1519162\n",
      "7.2         108\n",
      "7.5          24\n",
      "8.0         135\n",
      "8.2      166787\n",
      "8.5        9889\n",
      "8.8      405345\n",
      "8.9      141151\n",
      "9.0       42412\n",
      "9.2     1580616\n",
      "9.5       58322\n",
      "9.8      971624\n",
      "9.9      244621\n",
      "10.0     100435\n",
      "10.2    2230802\n",
      "10.5     141300\n",
      "11.0       8521\n",
      "11.2      12799\n",
      "11.5      51897\n",
      "12.0    1095695\n",
      "12.1     320093\n",
      "12.2     171117\n",
      "12.3      31506\n",
      "12.4      11868\n",
      "12.5       3475\n",
      "13.0    1566998\n",
      "         ...   \n",
      "24.9          1\n",
      "25.0        463\n",
      "25.1         35\n",
      "25.2         36\n",
      "25.3          2\n",
      "25.8          3\n",
      "26.0        178\n",
      "26.1          9\n",
      "26.2         37\n",
      "26.3          2\n",
      "26.8          7\n",
      "27.0         19\n",
      "27.2         15\n",
      "27.8          2\n",
      "28.0         49\n",
      "28.1          1\n",
      "28.2          9\n",
      "28.8          2\n",
      "29.0         66\n",
      "29.1          1\n",
      "29.2          3\n",
      "30.0         18\n",
      "30.1          2\n",
      "30.2         10\n",
      "30.8          3\n",
      "31.0          2\n",
      "31.2          5\n",
      "33.0          8\n",
      "34.0          6\n",
      "35.0          1\n",
      "Name: total_score, Length: 148, dtype: int64\n"
     ]
    }
   ],
   "source": [
    "get_value_counts(df[df['total_score'] >= 5])"
   ]
  },
  {
   "cell_type": "markdown",
   "metadata": {},
   "source": [
    "# Now, check the distribution of users with total_score >=5\n",
    "\n",
    "## It skew to the left with a long right tail"
   ]
  },
  {
   "cell_type": "code",
   "execution_count": 11,
   "metadata": {},
   "outputs": [
    {
     "data": {
      "text/plain": [
       "<matplotlib.axes._subplots.AxesSubplot at 0x7f60e335f2b0>"
      ]
     },
     "execution_count": 11,
     "metadata": {},
     "output_type": "execute_result"
    },
    {
     "data": {
      "image/png": "[encoded data removed]",
      "text/plain": [
       "<Figure size 432x288 with 1 Axes>"
      ]
     },
     "metadata": {
      "needs_background": "light"
     },
     "output_type": "display_data"
    }
   ],
   "source": [
    "sns.distplot(df[df['total_score'] >= 5]['total_score'], bins=15, hist=True, kde=True)"
   ]
  },
  {
   "cell_type": "markdown",
   "metadata": {},
   "source": [
    "# Check value counts for all users with total_score >20\n",
    "- Gender: identify\n",
    "- Age: 5 score means 26-55 age\n",
    "- Other Properties: "
   ]
  },
  {
   "cell_type": "code",
   "execution_count": 12,
   "metadata": {},
   "outputs": [
    {
     "name": "stdout",
     "output_type": "stream",
     "text": [
      "gender_score ---------------------\n",
      "4.0    2948\n",
      "5.0    4835\n",
      "Name: gender_score, dtype: int64\n",
      "age_score ---------------------\n",
      "1.0      48\n",
      "2.0     985\n",
      "4.8    5871\n",
      "4.9     650\n",
      "5.0     229\n",
      "Name: age_score, dtype: int64\n",
      "os_name_score ---------------------\n",
      "3.2    7386\n",
      "3.5     123\n",
      "4.5      49\n",
      "5.0     225\n",
      "Name: os_name_score, dtype: int64\n",
      "airline_score ---------------------\n",
      "0.0    2891\n",
      "5.0    4892\n",
      "Name: airline_score, dtype: int64\n",
      "luxury_score ---------------------\n",
      "0.0    4460\n",
      "5.0    3323\n",
      "Name: luxury_score, dtype: int64\n",
      "resort_score ---------------------\n",
      "0.0    7494\n",
      "5.0     289\n",
      "Name: resort_score, dtype: int64\n",
      "hotel_score ---------------------\n",
      "0.0    4891\n",
      "4.0    2892\n",
      "Name: hotel_score, dtype: int64\n",
      "tour_score ---------------------\n",
      "0.0    6343\n",
      "4.0    1440\n",
      "Name: tour_score, dtype: int64\n",
      "shopping_score ---------------------\n",
      "0.0    2551\n",
      "3.0    5232\n",
      "Name: shopping_score, dtype: int64\n",
      "total_score ---------------------\n",
      "20.1     238\n",
      "20.2     247\n",
      "20.3      39\n",
      "20.4       2\n",
      "20.5       3\n",
      "20.8      12\n",
      "21.0    3652\n",
      "21.1     268\n",
      "21.2     363\n",
      "21.3      49\n",
      "21.4       6\n",
      "21.5       4\n",
      "21.8      48\n",
      "21.9       3\n",
      "22.0     681\n",
      "22.1      49\n",
      "22.2     296\n",
      "22.3      40\n",
      "22.4       5\n",
      "22.5       3\n",
      "22.8      45\n",
      "22.9       5\n",
      "23.0     155\n",
      "23.1       8\n",
      "23.2     128\n",
      "23.3      10\n",
      "23.4       2\n",
      "23.8      13\n",
      "23.9       1\n",
      "24.0     370\n",
      "        ... \n",
      "24.9       1\n",
      "25.0     463\n",
      "25.1      35\n",
      "25.2      36\n",
      "25.3       2\n",
      "25.8       3\n",
      "26.0     178\n",
      "26.1       9\n",
      "26.2      37\n",
      "26.3       2\n",
      "26.8       7\n",
      "27.0      19\n",
      "27.2      15\n",
      "27.8       2\n",
      "28.0      49\n",
      "28.1       1\n",
      "28.2       9\n",
      "28.8       2\n",
      "29.0      66\n",
      "29.1       1\n",
      "29.2       3\n",
      "30.0      18\n",
      "30.1       2\n",
      "30.2      10\n",
      "30.8       3\n",
      "31.0       2\n",
      "31.2       5\n",
      "33.0       8\n",
      "34.0       6\n",
      "35.0       1\n",
      "Name: total_score, Length: 65, dtype: int64\n"
     ]
    }
   ],
   "source": [
    "get_value_counts(df[df['total_score'] > 20])"
   ]
  },
  {
   "cell_type": "markdown",
   "metadata": {},
   "source": [
    "# Check users with total score >30"
   ]
  },
  {
   "cell_type": "code",
   "execution_count": 13,
   "metadata": {},
   "outputs": [
    {
     "data": {
      "text/html": [
       "<div>\n",
       "<style scoped>\n",
       "    .dataframe tbody tr th:only-of-type {\n",
       "        vertical-align: middle;\n",
       "    }\n",
       "\n",
       "    .dataframe tbody tr th {\n",
       "        vertical-align: top;\n",
       "    }\n",
       "\n",
       "    .dataframe thead th {\n",
       "        text-align: right;\n",
       "    }\n",
       "</style>\n",
       "<table border=\"1\" class=\"dataframe\">\n",
       "  <thead>\n",
       "    <tr style=\"text-align: right;\">\n",
       "      <th></th>\n",
       "      <th>gender_score</th>\n",
       "      <th>age_score</th>\n",
       "      <th>os_name_score</th>\n",
       "      <th>airline_score</th>\n",
       "      <th>luxury_score</th>\n",
       "      <th>resort_score</th>\n",
       "      <th>hotel_score</th>\n",
       "      <th>tour_score</th>\n",
       "      <th>shopping_score</th>\n",
       "      <th>total_score</th>\n",
       "    </tr>\n",
       "    <tr>\n",
       "      <th>user_id</th>\n",
       "      <th></th>\n",
       "      <th></th>\n",
       "      <th></th>\n",
       "      <th></th>\n",
       "      <th></th>\n",
       "      <th></th>\n",
       "      <th></th>\n",
       "      <th></th>\n",
       "      <th></th>\n",
       "      <th></th>\n",
       "    </tr>\n",
       "  </thead>\n",
       "  <tbody>\n",
       "    <tr>\n",
       "      <th>16793458494006834428</th>\n",
       "      <td>4.0</td>\n",
       "      <td>4.8</td>\n",
       "      <td>3.2</td>\n",
       "      <td>5.0</td>\n",
       "      <td>5.0</td>\n",
       "      <td>5.0</td>\n",
       "      <td>4.0</td>\n",
       "      <td>4.0</td>\n",
       "      <td>0.0</td>\n",
       "      <td>35.0</td>\n",
       "    </tr>\n",
       "    <tr>\n",
       "      <th>4101501488421734078</th>\n",
       "      <td>5.0</td>\n",
       "      <td>4.8</td>\n",
       "      <td>3.2</td>\n",
       "      <td>5.0</td>\n",
       "      <td>5.0</td>\n",
       "      <td>0.0</td>\n",
       "      <td>4.0</td>\n",
       "      <td>4.0</td>\n",
       "      <td>3.0</td>\n",
       "      <td>34.0</td>\n",
       "    </tr>\n",
       "    <tr>\n",
       "      <th>16542499535753527692</th>\n",
       "      <td>5.0</td>\n",
       "      <td>4.8</td>\n",
       "      <td>3.2</td>\n",
       "      <td>5.0</td>\n",
       "      <td>0.0</td>\n",
       "      <td>5.0</td>\n",
       "      <td>4.0</td>\n",
       "      <td>4.0</td>\n",
       "      <td>3.0</td>\n",
       "      <td>34.0</td>\n",
       "    </tr>\n",
       "    <tr>\n",
       "      <th>2232306784689535269</th>\n",
       "      <td>4.0</td>\n",
       "      <td>4.8</td>\n",
       "      <td>3.2</td>\n",
       "      <td>5.0</td>\n",
       "      <td>5.0</td>\n",
       "      <td>5.0</td>\n",
       "      <td>0.0</td>\n",
       "      <td>4.0</td>\n",
       "      <td>3.0</td>\n",
       "      <td>34.0</td>\n",
       "    </tr>\n",
       "    <tr>\n",
       "      <th>336231447070624964</th>\n",
       "      <td>4.0</td>\n",
       "      <td>4.8</td>\n",
       "      <td>3.2</td>\n",
       "      <td>5.0</td>\n",
       "      <td>5.0</td>\n",
       "      <td>5.0</td>\n",
       "      <td>4.0</td>\n",
       "      <td>0.0</td>\n",
       "      <td>3.0</td>\n",
       "      <td>34.0</td>\n",
       "    </tr>\n",
       "    <tr>\n",
       "      <th>7754809452350231375</th>\n",
       "      <td>4.0</td>\n",
       "      <td>4.8</td>\n",
       "      <td>3.2</td>\n",
       "      <td>5.0</td>\n",
       "      <td>5.0</td>\n",
       "      <td>5.0</td>\n",
       "      <td>4.0</td>\n",
       "      <td>0.0</td>\n",
       "      <td>3.0</td>\n",
       "      <td>34.0</td>\n",
       "    </tr>\n",
       "    <tr>\n",
       "      <th>115982341123583001</th>\n",
       "      <td>5.0</td>\n",
       "      <td>4.8</td>\n",
       "      <td>3.2</td>\n",
       "      <td>5.0</td>\n",
       "      <td>0.0</td>\n",
       "      <td>5.0</td>\n",
       "      <td>4.0</td>\n",
       "      <td>4.0</td>\n",
       "      <td>3.0</td>\n",
       "      <td>34.0</td>\n",
       "    </tr>\n",
       "    <tr>\n",
       "      <th>13104968656368505568</th>\n",
       "      <td>4.0</td>\n",
       "      <td>4.8</td>\n",
       "      <td>3.2</td>\n",
       "      <td>5.0</td>\n",
       "      <td>0.0</td>\n",
       "      <td>5.0</td>\n",
       "      <td>4.0</td>\n",
       "      <td>4.0</td>\n",
       "      <td>3.0</td>\n",
       "      <td>33.0</td>\n",
       "    </tr>\n",
       "    <tr>\n",
       "      <th>8745828354425448548</th>\n",
       "      <td>4.0</td>\n",
       "      <td>4.8</td>\n",
       "      <td>3.2</td>\n",
       "      <td>5.0</td>\n",
       "      <td>0.0</td>\n",
       "      <td>5.0</td>\n",
       "      <td>4.0</td>\n",
       "      <td>4.0</td>\n",
       "      <td>3.0</td>\n",
       "      <td>33.0</td>\n",
       "    </tr>\n",
       "    <tr>\n",
       "      <th>8862332418829073179</th>\n",
       "      <td>4.0</td>\n",
       "      <td>4.8</td>\n",
       "      <td>3.2</td>\n",
       "      <td>0.0</td>\n",
       "      <td>5.0</td>\n",
       "      <td>5.0</td>\n",
       "      <td>4.0</td>\n",
       "      <td>4.0</td>\n",
       "      <td>3.0</td>\n",
       "      <td>33.0</td>\n",
       "    </tr>\n",
       "    <tr>\n",
       "      <th>9307507642742486710</th>\n",
       "      <td>4.0</td>\n",
       "      <td>4.8</td>\n",
       "      <td>3.2</td>\n",
       "      <td>5.0</td>\n",
       "      <td>5.0</td>\n",
       "      <td>0.0</td>\n",
       "      <td>4.0</td>\n",
       "      <td>4.0</td>\n",
       "      <td>3.0</td>\n",
       "      <td>33.0</td>\n",
       "    </tr>\n",
       "    <tr>\n",
       "      <th>2490535942046848700</th>\n",
       "      <td>5.0</td>\n",
       "      <td>2.0</td>\n",
       "      <td>5.0</td>\n",
       "      <td>5.0</td>\n",
       "      <td>5.0</td>\n",
       "      <td>0.0</td>\n",
       "      <td>4.0</td>\n",
       "      <td>4.0</td>\n",
       "      <td>3.0</td>\n",
       "      <td>33.0</td>\n",
       "    </tr>\n",
       "    <tr>\n",
       "      <th>11820127892270095836</th>\n",
       "      <td>4.0</td>\n",
       "      <td>4.8</td>\n",
       "      <td>3.2</td>\n",
       "      <td>5.0</td>\n",
       "      <td>5.0</td>\n",
       "      <td>0.0</td>\n",
       "      <td>4.0</td>\n",
       "      <td>4.0</td>\n",
       "      <td>3.0</td>\n",
       "      <td>33.0</td>\n",
       "    </tr>\n",
       "    <tr>\n",
       "      <th>2006575044719888630</th>\n",
       "      <td>4.0</td>\n",
       "      <td>4.8</td>\n",
       "      <td>3.2</td>\n",
       "      <td>5.0</td>\n",
       "      <td>0.0</td>\n",
       "      <td>5.0</td>\n",
       "      <td>4.0</td>\n",
       "      <td>4.0</td>\n",
       "      <td>3.0</td>\n",
       "      <td>33.0</td>\n",
       "    </tr>\n",
       "    <tr>\n",
       "      <th>10759878368319583342</th>\n",
       "      <td>4.0</td>\n",
       "      <td>4.8</td>\n",
       "      <td>3.2</td>\n",
       "      <td>5.0</td>\n",
       "      <td>5.0</td>\n",
       "      <td>0.0</td>\n",
       "      <td>4.0</td>\n",
       "      <td>4.0</td>\n",
       "      <td>3.0</td>\n",
       "      <td>33.0</td>\n",
       "    </tr>\n",
       "    <tr>\n",
       "      <th>11024951648334582931</th>\n",
       "      <td>4.0</td>\n",
       "      <td>2.0</td>\n",
       "      <td>3.2</td>\n",
       "      <td>5.0</td>\n",
       "      <td>5.0</td>\n",
       "      <td>5.0</td>\n",
       "      <td>4.0</td>\n",
       "      <td>0.0</td>\n",
       "      <td>3.0</td>\n",
       "      <td>31.2</td>\n",
       "    </tr>\n",
       "    <tr>\n",
       "      <th>18241404267383848069</th>\n",
       "      <td>5.0</td>\n",
       "      <td>2.0</td>\n",
       "      <td>3.2</td>\n",
       "      <td>5.0</td>\n",
       "      <td>5.0</td>\n",
       "      <td>0.0</td>\n",
       "      <td>4.0</td>\n",
       "      <td>4.0</td>\n",
       "      <td>3.0</td>\n",
       "      <td>31.2</td>\n",
       "    </tr>\n",
       "    <tr>\n",
       "      <th>9605211734002745987</th>\n",
       "      <td>5.0</td>\n",
       "      <td>2.0</td>\n",
       "      <td>3.2</td>\n",
       "      <td>5.0</td>\n",
       "      <td>5.0</td>\n",
       "      <td>0.0</td>\n",
       "      <td>4.0</td>\n",
       "      <td>4.0</td>\n",
       "      <td>3.0</td>\n",
       "      <td>31.2</td>\n",
       "    </tr>\n",
       "    <tr>\n",
       "      <th>15641010330027400457</th>\n",
       "      <td>5.0</td>\n",
       "      <td>2.0</td>\n",
       "      <td>3.2</td>\n",
       "      <td>5.0</td>\n",
       "      <td>5.0</td>\n",
       "      <td>0.0</td>\n",
       "      <td>4.0</td>\n",
       "      <td>4.0</td>\n",
       "      <td>3.0</td>\n",
       "      <td>31.2</td>\n",
       "    </tr>\n",
       "    <tr>\n",
       "      <th>15006540792304102118</th>\n",
       "      <td>5.0</td>\n",
       "      <td>2.0</td>\n",
       "      <td>3.2</td>\n",
       "      <td>5.0</td>\n",
       "      <td>5.0</td>\n",
       "      <td>0.0</td>\n",
       "      <td>4.0</td>\n",
       "      <td>4.0</td>\n",
       "      <td>3.0</td>\n",
       "      <td>31.2</td>\n",
       "    </tr>\n",
       "    <tr>\n",
       "      <th>13365657459953447939</th>\n",
       "      <td>5.0</td>\n",
       "      <td>4.8</td>\n",
       "      <td>3.2</td>\n",
       "      <td>5.0</td>\n",
       "      <td>5.0</td>\n",
       "      <td>0.0</td>\n",
       "      <td>4.0</td>\n",
       "      <td>4.0</td>\n",
       "      <td>0.0</td>\n",
       "      <td>31.0</td>\n",
       "    </tr>\n",
       "    <tr>\n",
       "      <th>1466427920447302020</th>\n",
       "      <td>4.0</td>\n",
       "      <td>4.8</td>\n",
       "      <td>3.2</td>\n",
       "      <td>5.0</td>\n",
       "      <td>5.0</td>\n",
       "      <td>5.0</td>\n",
       "      <td>4.0</td>\n",
       "      <td>0.0</td>\n",
       "      <td>0.0</td>\n",
       "      <td>31.0</td>\n",
       "    </tr>\n",
       "    <tr>\n",
       "      <th>17055005167639631588</th>\n",
       "      <td>4.0</td>\n",
       "      <td>4.8</td>\n",
       "      <td>5.0</td>\n",
       "      <td>5.0</td>\n",
       "      <td>5.0</td>\n",
       "      <td>0.0</td>\n",
       "      <td>4.0</td>\n",
       "      <td>0.0</td>\n",
       "      <td>3.0</td>\n",
       "      <td>30.8</td>\n",
       "    </tr>\n",
       "    <tr>\n",
       "      <th>9587132234880760987</th>\n",
       "      <td>4.0</td>\n",
       "      <td>4.8</td>\n",
       "      <td>5.0</td>\n",
       "      <td>5.0</td>\n",
       "      <td>5.0</td>\n",
       "      <td>0.0</td>\n",
       "      <td>4.0</td>\n",
       "      <td>0.0</td>\n",
       "      <td>3.0</td>\n",
       "      <td>30.8</td>\n",
       "    </tr>\n",
       "    <tr>\n",
       "      <th>14754233034354401273</th>\n",
       "      <td>5.0</td>\n",
       "      <td>4.8</td>\n",
       "      <td>5.0</td>\n",
       "      <td>0.0</td>\n",
       "      <td>5.0</td>\n",
       "      <td>0.0</td>\n",
       "      <td>4.0</td>\n",
       "      <td>4.0</td>\n",
       "      <td>3.0</td>\n",
       "      <td>30.8</td>\n",
       "    </tr>\n",
       "    <tr>\n",
       "      <th>12895763228214532744</th>\n",
       "      <td>4.0</td>\n",
       "      <td>2.0</td>\n",
       "      <td>3.2</td>\n",
       "      <td>0.0</td>\n",
       "      <td>5.0</td>\n",
       "      <td>5.0</td>\n",
       "      <td>4.0</td>\n",
       "      <td>4.0</td>\n",
       "      <td>3.0</td>\n",
       "      <td>30.2</td>\n",
       "    </tr>\n",
       "    <tr>\n",
       "      <th>12924823780740671602</th>\n",
       "      <td>4.0</td>\n",
       "      <td>2.0</td>\n",
       "      <td>3.2</td>\n",
       "      <td>5.0</td>\n",
       "      <td>5.0</td>\n",
       "      <td>0.0</td>\n",
       "      <td>4.0</td>\n",
       "      <td>4.0</td>\n",
       "      <td>3.0</td>\n",
       "      <td>30.2</td>\n",
       "    </tr>\n",
       "    <tr>\n",
       "      <th>8834339588218838480</th>\n",
       "      <td>4.0</td>\n",
       "      <td>2.0</td>\n",
       "      <td>3.2</td>\n",
       "      <td>5.0</td>\n",
       "      <td>5.0</td>\n",
       "      <td>0.0</td>\n",
       "      <td>4.0</td>\n",
       "      <td>4.0</td>\n",
       "      <td>3.0</td>\n",
       "      <td>30.2</td>\n",
       "    </tr>\n",
       "    <tr>\n",
       "      <th>7956291562380670687</th>\n",
       "      <td>4.0</td>\n",
       "      <td>2.0</td>\n",
       "      <td>3.2</td>\n",
       "      <td>0.0</td>\n",
       "      <td>5.0</td>\n",
       "      <td>5.0</td>\n",
       "      <td>4.0</td>\n",
       "      <td>4.0</td>\n",
       "      <td>3.0</td>\n",
       "      <td>30.2</td>\n",
       "    </tr>\n",
       "    <tr>\n",
       "      <th>4356518580774777853</th>\n",
       "      <td>4.0</td>\n",
       "      <td>2.0</td>\n",
       "      <td>3.2</td>\n",
       "      <td>5.0</td>\n",
       "      <td>5.0</td>\n",
       "      <td>0.0</td>\n",
       "      <td>4.0</td>\n",
       "      <td>4.0</td>\n",
       "      <td>3.0</td>\n",
       "      <td>30.2</td>\n",
       "    </tr>\n",
       "    <tr>\n",
       "      <th>7071004691626056511</th>\n",
       "      <td>4.0</td>\n",
       "      <td>2.0</td>\n",
       "      <td>3.2</td>\n",
       "      <td>5.0</td>\n",
       "      <td>5.0</td>\n",
       "      <td>0.0</td>\n",
       "      <td>4.0</td>\n",
       "      <td>4.0</td>\n",
       "      <td>3.0</td>\n",
       "      <td>30.2</td>\n",
       "    </tr>\n",
       "    <tr>\n",
       "      <th>13636929695203340821</th>\n",
       "      <td>4.0</td>\n",
       "      <td>2.0</td>\n",
       "      <td>3.2</td>\n",
       "      <td>5.0</td>\n",
       "      <td>5.0</td>\n",
       "      <td>0.0</td>\n",
       "      <td>4.0</td>\n",
       "      <td>4.0</td>\n",
       "      <td>3.0</td>\n",
       "      <td>30.2</td>\n",
       "    </tr>\n",
       "    <tr>\n",
       "      <th>2328576011598809493</th>\n",
       "      <td>5.0</td>\n",
       "      <td>1.0</td>\n",
       "      <td>3.2</td>\n",
       "      <td>5.0</td>\n",
       "      <td>5.0</td>\n",
       "      <td>0.0</td>\n",
       "      <td>4.0</td>\n",
       "      <td>4.0</td>\n",
       "      <td>3.0</td>\n",
       "      <td>30.2</td>\n",
       "    </tr>\n",
       "    <tr>\n",
       "      <th>1660804268471635718</th>\n",
       "      <td>4.0</td>\n",
       "      <td>2.0</td>\n",
       "      <td>3.2</td>\n",
       "      <td>0.0</td>\n",
       "      <td>5.0</td>\n",
       "      <td>5.0</td>\n",
       "      <td>4.0</td>\n",
       "      <td>4.0</td>\n",
       "      <td>3.0</td>\n",
       "      <td>30.2</td>\n",
       "    </tr>\n",
       "    <tr>\n",
       "      <th>17672818396949353499</th>\n",
       "      <td>4.0</td>\n",
       "      <td>2.0</td>\n",
       "      <td>3.2</td>\n",
       "      <td>5.0</td>\n",
       "      <td>0.0</td>\n",
       "      <td>5.0</td>\n",
       "      <td>4.0</td>\n",
       "      <td>4.0</td>\n",
       "      <td>3.0</td>\n",
       "      <td>30.2</td>\n",
       "    </tr>\n",
       "    <tr>\n",
       "      <th>13221635969631967993</th>\n",
       "      <td>5.0</td>\n",
       "      <td>4.9</td>\n",
       "      <td>3.2</td>\n",
       "      <td>5.0</td>\n",
       "      <td>5.0</td>\n",
       "      <td>0.0</td>\n",
       "      <td>4.0</td>\n",
       "      <td>0.0</td>\n",
       "      <td>3.0</td>\n",
       "      <td>30.1</td>\n",
       "    </tr>\n",
       "    <tr>\n",
       "      <th>17727133773465951497</th>\n",
       "      <td>5.0</td>\n",
       "      <td>4.9</td>\n",
       "      <td>3.2</td>\n",
       "      <td>5.0</td>\n",
       "      <td>5.0</td>\n",
       "      <td>0.0</td>\n",
       "      <td>4.0</td>\n",
       "      <td>0.0</td>\n",
       "      <td>3.0</td>\n",
       "      <td>30.1</td>\n",
       "    </tr>\n",
       "  </tbody>\n",
       "</table>\n",
       "</div>"
      ],
      "text/plain": [
       "                      gender_score  age_score  os_name_score  airline_score  \\\n",
       "user_id                                                                       \n",
       "16793458494006834428           4.0        4.8            3.2            5.0   \n",
       "4101501488421734078            5.0        4.8            3.2            5.0   \n",
       "16542499535753527692           5.0        4.8            3.2            5.0   \n",
       "2232306784689535269            4.0        4.8            3.2            5.0   \n",
       "336231447070624964             4.0        4.8            3.2            5.0   \n",
       "7754809452350231375            4.0        4.8            3.2            5.0   \n",
       "115982341123583001             5.0        4.8            3.2            5.0   \n",
       "13104968656368505568           4.0        4.8            3.2            5.0   \n",
       "8745828354425448548            4.0        4.8            3.2            5.0   \n",
       "8862332418829073179            4.0        4.8            3.2            0.0   \n",
       "9307507642742486710            4.0        4.8            3.2            5.0   \n",
       "2490535942046848700            5.0        2.0            5.0            5.0   \n",
       "11820127892270095836           4.0        4.8            3.2            5.0   \n",
       "2006575044719888630            4.0        4.8            3.2            5.0   \n",
       "10759878368319583342           4.0        4.8            3.2            5.0   \n",
       "11024951648334582931           4.0        2.0            3.2            5.0   \n",
       "18241404267383848069           5.0        2.0            3.2            5.0   \n",
       "9605211734002745987            5.0        2.0            3.2            5.0   \n",
       "15641010330027400457           5.0        2.0            3.2            5.0   \n",
       "15006540792304102118           5.0        2.0            3.2            5.0   \n",
       "13365657459953447939           5.0        4.8            3.2            5.0   \n",
       "1466427920447302020            4.0        4.8            3.2            5.0   \n",
       "17055005167639631588           4.0        4.8            5.0            5.0   \n",
       "9587132234880760987            4.0        4.8            5.0            5.0   \n",
       "14754233034354401273           5.0        4.8            5.0            0.0   \n",
       "12895763228214532744           4.0        2.0            3.2            0.0   \n",
       "12924823780740671602           4.0        2.0            3.2            5.0   \n",
       "8834339588218838480            4.0        2.0            3.2            5.0   \n",
       "7956291562380670687            4.0        2.0            3.2            0.0   \n",
       "4356518580774777853            4.0        2.0            3.2            5.0   \n",
       "7071004691626056511            4.0        2.0            3.2            5.0   \n",
       "13636929695203340821           4.0        2.0            3.2            5.0   \n",
       "2328576011598809493            5.0        1.0            3.2            5.0   \n",
       "1660804268471635718            4.0        2.0            3.2            0.0   \n",
       "17672818396949353499           4.0        2.0            3.2            5.0   \n",
       "13221635969631967993           5.0        4.9            3.2            5.0   \n",
       "17727133773465951497           5.0        4.9            3.2            5.0   \n",
       "\n",
       "                      luxury_score  resort_score  hotel_score  tour_score  \\\n",
       "user_id                                                                     \n",
       "16793458494006834428           5.0           5.0          4.0         4.0   \n",
       "4101501488421734078            5.0           0.0          4.0         4.0   \n",
       "16542499535753527692           0.0           5.0          4.0         4.0   \n",
       "2232306784689535269            5.0           5.0          0.0         4.0   \n",
       "336231447070624964             5.0           5.0          4.0         0.0   \n",
       "7754809452350231375            5.0           5.0          4.0         0.0   \n",
       "115982341123583001             0.0           5.0          4.0         4.0   \n",
       "13104968656368505568           0.0           5.0          4.0         4.0   \n",
       "8745828354425448548            0.0           5.0          4.0         4.0   \n",
       "8862332418829073179            5.0           5.0          4.0         4.0   \n",
       "9307507642742486710            5.0           0.0          4.0         4.0   \n",
       "2490535942046848700            5.0           0.0          4.0         4.0   \n",
       "11820127892270095836           5.0           0.0          4.0         4.0   \n",
       "2006575044719888630            0.0           5.0          4.0         4.0   \n",
       "10759878368319583342           5.0           0.0          4.0         4.0   \n",
       "11024951648334582931           5.0           5.0          4.0         0.0   \n",
       "18241404267383848069           5.0           0.0          4.0         4.0   \n",
       "9605211734002745987            5.0           0.0          4.0         4.0   \n",
       "15641010330027400457           5.0           0.0          4.0         4.0   \n",
       "15006540792304102118           5.0           0.0          4.0         4.0   \n",
       "13365657459953447939           5.0           0.0          4.0         4.0   \n",
       "1466427920447302020            5.0           5.0          4.0         0.0   \n",
       "17055005167639631588           5.0           0.0          4.0         0.0   \n",
       "9587132234880760987            5.0           0.0          4.0         0.0   \n",
       "14754233034354401273           5.0           0.0          4.0         4.0   \n",
       "12895763228214532744           5.0           5.0          4.0         4.0   \n",
       "12924823780740671602           5.0           0.0          4.0         4.0   \n",
       "8834339588218838480            5.0           0.0          4.0         4.0   \n",
       "7956291562380670687            5.0           5.0          4.0         4.0   \n",
       "4356518580774777853            5.0           0.0          4.0         4.0   \n",
       "7071004691626056511            5.0           0.0          4.0         4.0   \n",
       "13636929695203340821           5.0           0.0          4.0         4.0   \n",
       "2328576011598809493            5.0           0.0          4.0         4.0   \n",
       "1660804268471635718            5.0           5.0          4.0         4.0   \n",
       "17672818396949353499           0.0           5.0          4.0         4.0   \n",
       "13221635969631967993           5.0           0.0          4.0         0.0   \n",
       "17727133773465951497           5.0           0.0          4.0         0.0   \n",
       "\n",
       "                      shopping_score  total_score  \n",
       "user_id                                            \n",
       "16793458494006834428             0.0         35.0  \n",
       "4101501488421734078              3.0         34.0  \n",
       "16542499535753527692             3.0         34.0  \n",
       "2232306784689535269              3.0         34.0  \n",
       "336231447070624964               3.0         34.0  \n",
       "7754809452350231375              3.0         34.0  \n",
       "115982341123583001               3.0         34.0  \n",
       "13104968656368505568             3.0         33.0  \n",
       "8745828354425448548              3.0         33.0  \n",
       "8862332418829073179              3.0         33.0  \n",
       "9307507642742486710              3.0         33.0  \n",
       "2490535942046848700              3.0         33.0  \n",
       "11820127892270095836             3.0         33.0  \n",
       "2006575044719888630              3.0         33.0  \n",
       "10759878368319583342             3.0         33.0  \n",
       "11024951648334582931             3.0         31.2  \n",
       "18241404267383848069             3.0         31.2  \n",
       "9605211734002745987              3.0         31.2  \n",
       "15641010330027400457             3.0         31.2  \n",
       "15006540792304102118             3.0         31.2  \n",
       "13365657459953447939             0.0         31.0  \n",
       "1466427920447302020              0.0         31.0  \n",
       "17055005167639631588             3.0         30.8  \n",
       "9587132234880760987              3.0         30.8  \n",
       "14754233034354401273             3.0         30.8  \n",
       "12895763228214532744             3.0         30.2  \n",
       "12924823780740671602             3.0         30.2  \n",
       "8834339588218838480              3.0         30.2  \n",
       "7956291562380670687              3.0         30.2  \n",
       "4356518580774777853              3.0         30.2  \n",
       "7071004691626056511              3.0         30.2  \n",
       "13636929695203340821             3.0         30.2  \n",
       "2328576011598809493              3.0         30.2  \n",
       "1660804268471635718              3.0         30.2  \n",
       "17672818396949353499             3.0         30.2  \n",
       "13221635969631967993             3.0         30.1  \n",
       "17727133773465951497             3.0         30.1  "
      ]
     },
     "execution_count": 13,
     "metadata": {},
     "output_type": "execute_result"
    }
   ],
   "source": [
    "df[df['total_score'] > 30].sort_values(by=['total_score'], ascending=False)"
   ]
  },
  {
   "cell_type": "markdown",
   "metadata": {},
   "source": [
    "### 0.04 % usres with total_score > 20"
   ]
  },
  {
   "cell_type": "code",
   "execution_count": 14,
   "metadata": {},
   "outputs": [
    {
     "data": {
      "text/plain": [
       "0.04212799701212202"
      ]
     },
     "execution_count": 14,
     "metadata": {},
     "output_type": "execute_result"
    }
   ],
   "source": [
    "len(df[df['total_score'] > 20]) / len(df) * 100"
   ]
  },
  {
   "cell_type": "markdown",
   "metadata": {},
   "source": [
    "### 1% users with total_score > 15"
   ]
  },
  {
   "cell_type": "code",
   "execution_count": 15,
   "metadata": {},
   "outputs": [
    {
     "data": {
      "text/plain": [
       "1.0509969065719782"
      ]
     },
     "execution_count": 15,
     "metadata": {},
     "output_type": "execute_result"
    }
   ],
   "source": [
    "len(df[df['total_score'] > 15]) / len(df) * 100"
   ]
  },
  {
   "cell_type": "markdown",
   "metadata": {},
   "source": [
    "# Check users with smart phone"
   ]
  },
  {
   "cell_type": "code",
   "execution_count": 16,
   "metadata": {},
   "outputs": [],
   "source": [
    "df_smart_phone = df[(df['os_name_score'] == 3) | (df['os_name_score'] == 3.5) | (df['os_name_score'] == 4.5)]"
   ]
  },
  {
   "cell_type": "code",
   "execution_count": 17,
   "metadata": {},
   "outputs": [
    {
     "name": "stdout",
     "output_type": "stream",
     "text": [
      "gender_score ---------------------\n",
      "0.0    710022\n",
      "4.0    120579\n",
      "5.0    552750\n",
      "Name: gender_score, dtype: int64\n",
      "age_score ---------------------\n",
      "0.0    710022\n",
      "1.0     47085\n",
      "2.0    218193\n",
      "4.8    290063\n",
      "4.9     91687\n",
      "5.0     26301\n",
      "Name: age_score, dtype: int64\n",
      "os_name_score ---------------------\n",
      "3.0      28757\n",
      "3.5    1059484\n",
      "4.5     295110\n",
      "Name: os_name_score, dtype: int64\n",
      "airline_score ---------------------\n",
      "0.0    1382520\n",
      "5.0        831\n",
      "Name: airline_score, dtype: int64\n",
      "luxury_score ---------------------\n",
      "0.0    1382366\n",
      "5.0        985\n",
      "Name: luxury_score, dtype: int64\n",
      "resort_score ---------------------\n",
      "0.0    1383346\n",
      "5.0          5\n",
      "Name: resort_score, dtype: int64\n",
      "hotel_score ---------------------\n",
      "0.0    1382972\n",
      "4.0        379\n",
      "Name: hotel_score, dtype: int64\n",
      "tour_score ---------------------\n",
      "0.0    1383209\n",
      "4.0        142\n",
      "Name: tour_score, dtype: int64\n",
      "shopping_score ---------------------\n",
      "0.0    1373842\n",
      "3.0       9509\n",
      "Name: shopping_score, dtype: int64\n",
      "total_score ---------------------\n",
      "3.0      28757\n",
      "3.5     579268\n",
      "4.5     101808\n",
      "6.5         92\n",
      "7.5         24\n",
      "8.5       9889\n",
      "9.5      58322\n",
      "10.5    141300\n",
      "11.5     51897\n",
      "12.3     31506\n",
      "12.4     11868\n",
      "12.5      3475\n",
      "13.3    177157\n",
      "13.4     60996\n",
      "13.5     20535\n",
      "14.3     75208\n",
      "14.4     17834\n",
      "14.5      5558\n",
      "15.3       359\n",
      "15.4        59\n",
      "15.5       280\n",
      "16.3      3904\n",
      "16.4       649\n",
      "16.5       303\n",
      "17.3      1071\n",
      "17.4       126\n",
      "17.5        31\n",
      "18.3       500\n",
      "18.4       100\n",
      "18.5        37\n",
      "19.3       212\n",
      "19.4        39\n",
      "19.5        15\n",
      "20.3        39\n",
      "20.4         2\n",
      "20.5         3\n",
      "21.3        49\n",
      "21.4         6\n",
      "21.5         4\n",
      "22.3        40\n",
      "22.4         5\n",
      "22.5         3\n",
      "23.3        10\n",
      "23.4         2\n",
      "24.3         4\n",
      "24.4         1\n",
      "25.3         2\n",
      "26.3         2\n",
      "Name: total_score, dtype: int64\n"
     ]
    }
   ],
   "source": [
    "get_value_counts(df_smart_phone)"
   ]
  },
  {
   "cell_type": "code",
   "execution_count": 18,
   "metadata": {},
   "outputs": [
    {
     "data": {
      "text/plain": [
       "<matplotlib.axes._subplots.AxesSubplot at 0x7f60a2a780f0>"
      ]
     },
     "execution_count": 18,
     "metadata": {},
     "output_type": "execute_result"
    },
    {
     "data": {
      "image/png": "[encoded data removed]",
      "text/plain": [
       "<Figure size 432x288 with 1 Axes>"
      ]
     },
     "metadata": {
      "needs_background": "light"
     },
     "output_type": "display_data"
    }
   ],
   "source": [
    "sns.distplot(df_smart_phone[df_smart_phone['total_score'] >= 5]['total_score'], bins=15, hist=True, kde=True)"
   ]
  },
  {
   "cell_type": "code",
   "execution_count": 19,
   "metadata": {
    "scrolled": true
   },
   "outputs": [
    {
     "name": "stdout",
     "output_type": "stream",
     "text": [
      "1.1665612500334066\n"
     ]
    }
   ],
   "source": [
    "print(100.0 * len(df_smart_phone[df_smart_phone['total_score'] > 15]) / len(df_smart_phone[df_smart_phone['total_score'] >=5]))"
   ]
  },
  {
   "cell_type": "markdown",
   "metadata": {},
   "source": [
    "# Statistic Test"
   ]
  },
  {
   "cell_type": "code",
   "execution_count": 20,
   "metadata": {},
   "outputs": [],
   "source": [
    "x_label_income = ['Low', 'Medium', 'High', 'Luxury']"
   ]
  },
  {
   "cell_type": "code",
   "execution_count": 21,
   "metadata": {},
   "outputs": [],
   "source": [
    "income_Bachan = [2532818, 1506937, 259549, 4562]"
   ]
  },
  {
   "cell_type": "code",
   "execution_count": 22,
   "metadata": {},
   "outputs": [],
   "source": [
    "# income_Bachan_prop = income_Bachan / np.sum(income_Bachan)\n",
    "# income_Bachan_prop"
   ]
  },
  {
   "cell_type": "code",
   "execution_count": 23,
   "metadata": {},
   "outputs": [],
   "source": [
    "# income_Bachan_accumulate_prop = np.cumsum(income_Bachan_prop)\n",
    "# print(income_Bachan_accumulate_prop)"
   ]
  },
  {
   "cell_type": "code",
   "execution_count": 24,
   "metadata": {},
   "outputs": [
    {
     "data": {
      "text/plain": [
       "<matplotlib.axes._subplots.AxesSubplot at 0x7f60a2eefd30>"
      ]
     },
     "execution_count": 24,
     "metadata": {},
     "output_type": "execute_result"
    },
    {
     "data": {
      "image/png": "[encoded data removed]",
      "text/plain": [
       "<Figure size 432x288 with 1 Axes>"
      ]
     },
     "metadata": {
      "needs_background": "light"
     },
     "output_type": "display_data"
    }
   ],
   "source": [
    "sns.barplot(x=x_label_income, y=income_Bachan)"
   ]
  },
  {
   "cell_type": "code",
   "execution_count": 25,
   "metadata": {
    "scrolled": false
   },
   "outputs": [
    {
     "data": {
      "text/html": [
       "<div>\n",
       "<style scoped>\n",
       "    .dataframe tbody tr th:only-of-type {\n",
       "        vertical-align: middle;\n",
       "    }\n",
       "\n",
       "    .dataframe tbody tr th {\n",
       "        vertical-align: top;\n",
       "    }\n",
       "\n",
       "    .dataframe thead th {\n",
       "        text-align: right;\n",
       "    }\n",
       "</style>\n",
       "<table border=\"1\" class=\"dataframe\">\n",
       "  <thead>\n",
       "    <tr style=\"text-align: right;\">\n",
       "      <th></th>\n",
       "      <th>gender_score</th>\n",
       "      <th>age_score</th>\n",
       "      <th>os_name_score</th>\n",
       "      <th>airline_score</th>\n",
       "      <th>luxury_score</th>\n",
       "      <th>resort_score</th>\n",
       "      <th>hotel_score</th>\n",
       "      <th>tour_score</th>\n",
       "      <th>shopping_score</th>\n",
       "      <th>total_score</th>\n",
       "    </tr>\n",
       "    <tr>\n",
       "      <th>user_id</th>\n",
       "      <th></th>\n",
       "      <th></th>\n",
       "      <th></th>\n",
       "      <th></th>\n",
       "      <th></th>\n",
       "      <th></th>\n",
       "      <th></th>\n",
       "      <th></th>\n",
       "      <th></th>\n",
       "      <th></th>\n",
       "    </tr>\n",
       "  </thead>\n",
       "  <tbody>\n",
       "    <tr>\n",
       "      <th>1000000056608555144</th>\n",
       "      <td>0.0</td>\n",
       "      <td>0.0</td>\n",
       "      <td>3.2</td>\n",
       "      <td>0.0</td>\n",
       "      <td>0.0</td>\n",
       "      <td>0.0</td>\n",
       "      <td>0.0</td>\n",
       "      <td>0.0</td>\n",
       "      <td>0.0</td>\n",
       "      <td>3.2</td>\n",
       "    </tr>\n",
       "    <tr>\n",
       "      <th>10000001329287489547</th>\n",
       "      <td>5.0</td>\n",
       "      <td>2.0</td>\n",
       "      <td>3.2</td>\n",
       "      <td>0.0</td>\n",
       "      <td>0.0</td>\n",
       "      <td>0.0</td>\n",
       "      <td>0.0</td>\n",
       "      <td>0.0</td>\n",
       "      <td>0.0</td>\n",
       "      <td>10.2</td>\n",
       "    </tr>\n",
       "    <tr>\n",
       "      <th>10000001444874055142</th>\n",
       "      <td>5.0</td>\n",
       "      <td>4.8</td>\n",
       "      <td>0.0</td>\n",
       "      <td>0.0</td>\n",
       "      <td>0.0</td>\n",
       "      <td>0.0</td>\n",
       "      <td>0.0</td>\n",
       "      <td>0.0</td>\n",
       "      <td>0.0</td>\n",
       "      <td>9.8</td>\n",
       "    </tr>\n",
       "    <tr>\n",
       "      <th>10000002801382328183</th>\n",
       "      <td>4.0</td>\n",
       "      <td>4.8</td>\n",
       "      <td>0.0</td>\n",
       "      <td>0.0</td>\n",
       "      <td>0.0</td>\n",
       "      <td>0.0</td>\n",
       "      <td>0.0</td>\n",
       "      <td>0.0</td>\n",
       "      <td>0.0</td>\n",
       "      <td>8.8</td>\n",
       "    </tr>\n",
       "    <tr>\n",
       "      <th>1000000307799104701</th>\n",
       "      <td>0.0</td>\n",
       "      <td>0.0</td>\n",
       "      <td>3.2</td>\n",
       "      <td>0.0</td>\n",
       "      <td>0.0</td>\n",
       "      <td>0.0</td>\n",
       "      <td>0.0</td>\n",
       "      <td>0.0</td>\n",
       "      <td>0.0</td>\n",
       "      <td>3.2</td>\n",
       "    </tr>\n",
       "  </tbody>\n",
       "</table>\n",
       "</div>"
      ],
      "text/plain": [
       "                      gender_score  age_score  os_name_score  airline_score  \\\n",
       "user_id                                                                       \n",
       "1000000056608555144            0.0        0.0            3.2            0.0   \n",
       "10000001329287489547           5.0        2.0            3.2            0.0   \n",
       "10000001444874055142           5.0        4.8            0.0            0.0   \n",
       "10000002801382328183           4.0        4.8            0.0            0.0   \n",
       "1000000307799104701            0.0        0.0            3.2            0.0   \n",
       "\n",
       "                      luxury_score  resort_score  hotel_score  tour_score  \\\n",
       "user_id                                                                     \n",
       "1000000056608555144            0.0           0.0          0.0         0.0   \n",
       "10000001329287489547           0.0           0.0          0.0         0.0   \n",
       "10000001444874055142           0.0           0.0          0.0         0.0   \n",
       "10000002801382328183           0.0           0.0          0.0         0.0   \n",
       "1000000307799104701            0.0           0.0          0.0         0.0   \n",
       "\n",
       "                      shopping_score  total_score  \n",
       "user_id                                            \n",
       "1000000056608555144              0.0          3.2  \n",
       "10000001329287489547             0.0         10.2  \n",
       "10000001444874055142             0.0          9.8  \n",
       "10000002801382328183             0.0          8.8  \n",
       "1000000307799104701              0.0          3.2  "
      ]
     },
     "execution_count": 25,
     "metadata": {},
     "output_type": "execute_result"
    }
   ],
   "source": [
    "df_total_score = df.copy()\n",
    "df_total_score.head()"
   ]
  },
  {
   "cell_type": "markdown",
   "metadata": {},
   "source": [
    "#  Test statistics ( Chi-square statistics on two observed methods)\n",
    "- Since the number users on Bachan ~ 5M, our method ~18M, so the test is not correct in my opinion.\n",
    "- Perhaps we need to use similar number users for both methods, no need to be the same but not too different"
   ]
  },
  {
   "cell_type": "code",
   "execution_count": 26,
   "metadata": {},
   "outputs": [],
   "source": [
    "threshold_income = [9.5, 13, 15.5]"
   ]
  },
  {
   "cell_type": "code",
   "execution_count": 27,
   "metadata": {},
   "outputs": [],
   "source": [
    "def get_income_category(x):\n",
    "    # 0: low, 1: mid, 2: high, 3: so rich (luxury)\n",
    "    for (i, t) in enumerate(threshold_income):\n",
    "        if (x < t):\n",
    "            return i\n",
    "    return len(threshold_income)"
   ]
  },
  {
   "cell_type": "code",
   "execution_count": 28,
   "metadata": {},
   "outputs": [],
   "source": [
    "df_total_score['income'] = df_total_score['total_score'].apply(lambda x: get_income_category(x))"
   ]
  },
  {
   "cell_type": "code",
   "execution_count": 29,
   "metadata": {},
   "outputs": [
    {
     "data": {
      "text/html": [
       "<div>\n",
       "<style scoped>\n",
       "    .dataframe tbody tr th:only-of-type {\n",
       "        vertical-align: middle;\n",
       "    }\n",
       "\n",
       "    .dataframe tbody tr th {\n",
       "        vertical-align: top;\n",
       "    }\n",
       "\n",
       "    .dataframe thead th {\n",
       "        text-align: right;\n",
       "    }\n",
       "</style>\n",
       "<table border=\"1\" class=\"dataframe\">\n",
       "  <thead>\n",
       "    <tr style=\"text-align: right;\">\n",
       "      <th></th>\n",
       "      <th>total_score</th>\n",
       "      <th>income</th>\n",
       "    </tr>\n",
       "    <tr>\n",
       "      <th>user_id</th>\n",
       "      <th></th>\n",
       "      <th></th>\n",
       "    </tr>\n",
       "  </thead>\n",
       "  <tbody>\n",
       "    <tr>\n",
       "      <th>1000000056608555144</th>\n",
       "      <td>3.2</td>\n",
       "      <td>0</td>\n",
       "    </tr>\n",
       "    <tr>\n",
       "      <th>10000001329287489547</th>\n",
       "      <td>10.2</td>\n",
       "      <td>1</td>\n",
       "    </tr>\n",
       "    <tr>\n",
       "      <th>10000001444874055142</th>\n",
       "      <td>9.8</td>\n",
       "      <td>1</td>\n",
       "    </tr>\n",
       "    <tr>\n",
       "      <th>10000002801382328183</th>\n",
       "      <td>8.8</td>\n",
       "      <td>0</td>\n",
       "    </tr>\n",
       "    <tr>\n",
       "      <th>1000000307799104701</th>\n",
       "      <td>3.2</td>\n",
       "      <td>0</td>\n",
       "    </tr>\n",
       "  </tbody>\n",
       "</table>\n",
       "</div>"
      ],
      "text/plain": [
       "                      total_score  income\n",
       "user_id                                  \n",
       "1000000056608555144           3.2       0\n",
       "10000001329287489547         10.2       1\n",
       "10000001444874055142          9.8       1\n",
       "10000002801382328183          8.8       0\n",
       "1000000307799104701           3.2       0"
      ]
     },
     "execution_count": 29,
     "metadata": {},
     "output_type": "execute_result"
    }
   ],
   "source": [
    "df_total_score = df_total_score[['total_score', 'income']]\n",
    "df_total_score.head()"
   ]
  },
  {
   "cell_type": "code",
   "execution_count": 30,
   "metadata": {
    "scrolled": true
   },
   "outputs": [],
   "source": [
    "# income_prop = df_total_score['income'].value_counts(normalize=True, sort=False)\n",
    "# print(income_prop)\n",
    "# income_accumulate_prop = np.cumsum(income_prop.values)"
   ]
  },
  {
   "cell_type": "code",
   "execution_count": 31,
   "metadata": {},
   "outputs": [],
   "source": [
    "# def get_Kolmogorov_Smirnov_Statistic(first_accumulate_prop, second_accumulate_prob):\n",
    "#     critical_value = 1.36 * 1 / np.sqrt(len(first_accumulate_prop))\n",
    "#     gap = abs(first_accumulate_prop - second_accumulate_prob)\n",
    "#     max_gap = np.max(gap)\n",
    "#     print('critical value: {} \\t Max gap: {}'.format(critical_value, max_gap))\n",
    "#     return max_gap < critical_value"
   ]
  },
  {
   "cell_type": "code",
   "execution_count": 32,
   "metadata": {},
   "outputs": [],
   "source": [
    "# get_Kolmogorov_Smirnov_Statistic(income_Bachan_accumulate_prop, income_accumulate_prop)"
   ]
  },
  {
   "cell_type": "code",
   "execution_count": 33,
   "metadata": {
    "scrolled": true
   },
   "outputs": [
    {
     "data": {
      "text/plain": [
       "0    10331347\n",
       "1     5454075\n",
       "2     2513093\n",
       "3      176135\n",
       "Name: income, dtype: int64"
      ]
     },
     "execution_count": 33,
     "metadata": {},
     "output_type": "execute_result"
    }
   ],
   "source": [
    "income_our_method = df_total_score['income'].value_counts(sort=False)\n",
    "income_our_method"
   ]
  },
  {
   "cell_type": "code",
   "execution_count": 34,
   "metadata": {},
   "outputs": [
    {
     "data": {
      "text/plain": [
       "Text(0, 0.5, 'Count')"
      ]
     },
     "execution_count": 34,
     "metadata": {},
     "output_type": "execute_result"
    },
    {
     "data": {
      "image/png": "[encoded data removed]",
      "text/plain": [
       "<Figure size 432x288 with 1 Axes>"
      ]
     },
     "metadata": {
      "needs_background": "light"
     },
     "output_type": "display_data"
    }
   ],
   "source": [
    "sns.barplot(x=x_label_income, y=income_our_method)\n",
    "plt.ylabel('Count')"
   ]
  },
  {
   "cell_type": "code",
   "execution_count": 35,
   "metadata": {},
   "outputs": [],
   "source": [
    "arr_test = np.array([[11,5,1], [8, 6, 8], [3, 10, 12]])\n",
    "df_test = pd.DataFrame(index=['ER', 'LR', 'BQ'], columns=['Fruit', 'Flower', 'Mixed'], data=arr_test)"
   ]
  },
  {
   "cell_type": "code",
   "execution_count": 36,
   "metadata": {
    "scrolled": false
   },
   "outputs": [
    {
     "data": {
      "text/html": [
       "<div>\n",
       "<style scoped>\n",
       "    .dataframe tbody tr th:only-of-type {\n",
       "        vertical-align: middle;\n",
       "    }\n",
       "\n",
       "    .dataframe tbody tr th {\n",
       "        vertical-align: top;\n",
       "    }\n",
       "\n",
       "    .dataframe thead th {\n",
       "        text-align: right;\n",
       "    }\n",
       "</style>\n",
       "<table border=\"1\" class=\"dataframe\">\n",
       "  <thead>\n",
       "    <tr style=\"text-align: right;\">\n",
       "      <th></th>\n",
       "      <th>Fruit</th>\n",
       "      <th>Flower</th>\n",
       "      <th>Mixed</th>\n",
       "    </tr>\n",
       "  </thead>\n",
       "  <tbody>\n",
       "    <tr>\n",
       "      <th>ER</th>\n",
       "      <td>11</td>\n",
       "      <td>5</td>\n",
       "      <td>1</td>\n",
       "    </tr>\n",
       "    <tr>\n",
       "      <th>LR</th>\n",
       "      <td>8</td>\n",
       "      <td>6</td>\n",
       "      <td>8</td>\n",
       "    </tr>\n",
       "    <tr>\n",
       "      <th>BQ</th>\n",
       "      <td>3</td>\n",
       "      <td>10</td>\n",
       "      <td>12</td>\n",
       "    </tr>\n",
       "  </tbody>\n",
       "</table>\n",
       "</div>"
      ],
      "text/plain": [
       "    Fruit  Flower  Mixed\n",
       "ER     11       5      1\n",
       "LR      8       6      8\n",
       "BQ      3      10     12"
      ]
     },
     "execution_count": 36,
     "metadata": {},
     "output_type": "execute_result"
    }
   ],
   "source": [
    "df_test"
   ]
  },
  {
   "cell_type": "code",
   "execution_count": 37,
   "metadata": {},
   "outputs": [],
   "source": [
    "from scipy import stats"
   ]
  },
  {
   "cell_type": "code",
   "execution_count": 38,
   "metadata": {},
   "outputs": [],
   "source": [
    "def chi_square_test(df):\n",
    "    marginal_count_method = df.sum(axis=1)\n",
    "    marginal_count_income = df.sum(axis=0)\n",
    "    total_count = marginal_count_method.sum()\n",
    "    assert total_count == marginal_count_income.sum()\n",
    "    #print('total count', total_count)\n",
    "    expected_values = np.zeros_like(df, dtype=float)\n",
    "    for i in range(expected_values.shape[0]):\n",
    "        for j in range(expected_values.shape[1]):\n",
    "            expected_values[i,j] = marginal_count_method[i] * marginal_count_income[j] / total_count\n",
    "    df_expected = pd.DataFrame(index=df.index, columns=df.columns, data=expected_values)\n",
    "    print(df_expected)\n",
    "    chi_square = ((df - df_expected)**2 / df_expected).sum().sum()\n",
    "    degree_of_freedom = (expected_values.shape[0] - 1 ) * (expected_values.shape[1] - 1)\n",
    "    print('Chi_square : {} '.format(chi_square))\n",
    "    print('Degree of freedom : {}'.format(degree_of_freedom))\n",
    "    p_values = 1 - stats.chi2.cdf(chi_square, degree_of_freedom)\n",
    "    print('p_value:', p_values)\n",
    "    return p_values,4"
   ]
  },
  {
   "cell_type": "code",
   "execution_count": 39,
   "metadata": {
    "scrolled": true
   },
   "outputs": [
    {
     "name": "stdout",
     "output_type": "stream",
     "text": [
      "      Fruit    Flower     Mixed\n",
      "ER  5.84375  5.578125  5.578125\n",
      "LR  7.56250  7.218750  7.218750\n",
      "BQ  8.59375  8.203125  8.203125\n",
      "Chi_square : 14.474605180915342 \n",
      "Degree of freedom : 4\n",
      "p_value: 0.005924673756590226\n"
     ]
    },
    {
     "data": {
      "text/plain": [
       "(0.005924673756590226, 4)"
      ]
     },
     "execution_count": 39,
     "metadata": {},
     "output_type": "execute_result"
    }
   ],
   "source": [
    "chi_square_test(df_test)"
   ]
  },
  {
   "cell_type": "markdown",
   "metadata": {},
   "source": [
    "### p_value < 0.05 --> (ER, LR, BQ) and (Fruit, Flower, Mixed) are dependent"
   ]
  },
  {
   "cell_type": "code",
   "execution_count": 40,
   "metadata": {},
   "outputs": [],
   "source": [
    "df_two_methods = pd.DataFrame(index=['Bachan', 'Our method'], columns=x_label_income, data=np.array([income_Bachan, income_our_method]))"
   ]
  },
  {
   "cell_type": "code",
   "execution_count": 41,
   "metadata": {},
   "outputs": [
    {
     "data": {
      "text/html": [
       "<div>\n",
       "<style scoped>\n",
       "    .dataframe tbody tr th:only-of-type {\n",
       "        vertical-align: middle;\n",
       "    }\n",
       "\n",
       "    .dataframe tbody tr th {\n",
       "        vertical-align: top;\n",
       "    }\n",
       "\n",
       "    .dataframe thead th {\n",
       "        text-align: right;\n",
       "    }\n",
       "</style>\n",
       "<table border=\"1\" class=\"dataframe\">\n",
       "  <thead>\n",
       "    <tr style=\"text-align: right;\">\n",
       "      <th></th>\n",
       "      <th>Low</th>\n",
       "      <th>Medium</th>\n",
       "      <th>High</th>\n",
       "      <th>Luxury</th>\n",
       "    </tr>\n",
       "  </thead>\n",
       "  <tbody>\n",
       "    <tr>\n",
       "      <th>Bachan</th>\n",
       "      <td>2532818</td>\n",
       "      <td>1506937</td>\n",
       "      <td>259549</td>\n",
       "      <td>4562</td>\n",
       "    </tr>\n",
       "    <tr>\n",
       "      <th>Our method</th>\n",
       "      <td>10331347</td>\n",
       "      <td>5454075</td>\n",
       "      <td>2513093</td>\n",
       "      <td>176135</td>\n",
       "    </tr>\n",
       "  </tbody>\n",
       "</table>\n",
       "</div>"
      ],
      "text/plain": [
       "                 Low   Medium     High  Luxury\n",
       "Bachan       2532818  1506937   259549    4562\n",
       "Our method  10331347  5454075  2513093  176135"
      ]
     },
     "execution_count": 41,
     "metadata": {},
     "output_type": "execute_result"
    }
   ],
   "source": [
    "df_two_methods"
   ]
  },
  {
   "cell_type": "code",
   "execution_count": 42,
   "metadata": {},
   "outputs": [
    {
     "name": "stdout",
     "output_type": "stream",
     "text": [
      "                     Low        Medium          High         Luxury\n",
      "Bachan      2.430608e+06  1.315242e+06  5.238743e+05   34141.630412\n",
      "Our method  1.043356e+07  5.645770e+06  2.248768e+06  146555.369588\n",
      "Chi_square : 235781.75775728008 \n",
      "Degree of freedom : 3\n",
      "p_value: 0.0\n"
     ]
    }
   ],
   "source": [
    "p_value = chi_square_test(df_two_methods)"
   ]
  },
  {
   "cell_type": "markdown",
   "metadata": {},
   "source": [
    "# Check statistics with proportion instead of counting number\n",
    "- It is wrong since this statistics test only for the counting number"
   ]
  },
  {
   "cell_type": "code",
   "execution_count": 46,
   "metadata": {},
   "outputs": [],
   "source": [
    "income_Bachan_prop = income_Bachan / np.sum(income_Bachan)\n",
    "income_our_method_prop = df_total_score['income'].value_counts(normalize=True, sort=False).values"
   ]
  },
  {
   "cell_type": "code",
   "execution_count": 47,
   "metadata": {},
   "outputs": [
    {
     "data": {
      "text/plain": [
       "array([0.58849834, 0.35013567, 0.06030601, 0.00105998])"
      ]
     },
     "execution_count": 47,
     "metadata": {},
     "output_type": "execute_result"
    }
   ],
   "source": [
    "income_Bachan_prop"
   ]
  },
  {
   "cell_type": "code",
   "execution_count": 48,
   "metadata": {},
   "outputs": [
    {
     "data": {
      "text/plain": [
       "array([0.55921747, 0.2952194 , 0.13602926, 0.00953387])"
      ]
     },
     "execution_count": 48,
     "metadata": {},
     "output_type": "execute_result"
    }
   ],
   "source": [
    "income_our_method_prop"
   ]
  },
  {
   "cell_type": "code",
   "execution_count": 49,
   "metadata": {},
   "outputs": [],
   "source": [
    "df_two_methods_prop = pd.DataFrame(index=['Bachan', 'Our method'], columns=x_label_income, \n",
    "                                   data=np.array([income_Bachan_prop, income_our_method_prop]))"
   ]
  },
  {
   "cell_type": "code",
   "execution_count": 50,
   "metadata": {},
   "outputs": [
    {
     "data": {
      "text/html": [
       "<div>\n",
       "<style scoped>\n",
       "    .dataframe tbody tr th:only-of-type {\n",
       "        vertical-align: middle;\n",
       "    }\n",
       "\n",
       "    .dataframe tbody tr th {\n",
       "        vertical-align: top;\n",
       "    }\n",
       "\n",
       "    .dataframe thead th {\n",
       "        text-align: right;\n",
       "    }\n",
       "</style>\n",
       "<table border=\"1\" class=\"dataframe\">\n",
       "  <thead>\n",
       "    <tr style=\"text-align: right;\">\n",
       "      <th></th>\n",
       "      <th>Low</th>\n",
       "      <th>Medium</th>\n",
       "      <th>High</th>\n",
       "      <th>Luxury</th>\n",
       "    </tr>\n",
       "  </thead>\n",
       "  <tbody>\n",
       "    <tr>\n",
       "      <th>Bachan</th>\n",
       "      <td>0.588498</td>\n",
       "      <td>0.350136</td>\n",
       "      <td>0.060306</td>\n",
       "      <td>0.001060</td>\n",
       "    </tr>\n",
       "    <tr>\n",
       "      <th>Our method</th>\n",
       "      <td>0.559217</td>\n",
       "      <td>0.295219</td>\n",
       "      <td>0.136029</td>\n",
       "      <td>0.009534</td>\n",
       "    </tr>\n",
       "  </tbody>\n",
       "</table>\n",
       "</div>"
      ],
      "text/plain": [
       "                 Low    Medium      High    Luxury\n",
       "Bachan      0.588498  0.350136  0.060306  0.001060\n",
       "Our method  0.559217  0.295219  0.136029  0.009534"
      ]
     },
     "execution_count": 50,
     "metadata": {},
     "output_type": "execute_result"
    }
   ],
   "source": [
    "df_two_methods_prop"
   ]
  },
  {
   "cell_type": "code",
   "execution_count": 51,
   "metadata": {},
   "outputs": [
    {
     "name": "stdout",
     "output_type": "stream",
     "text": [
      "                 Low    Medium      High    Luxury\n",
      "Bachan      0.573858  0.322678  0.098168  0.005297\n",
      "Our method  0.573858  0.322678  0.098168  0.005297\n",
      "Chi_square : 0.041403472207664466 \n",
      "Degree of freedom : 3\n",
      "p_value: 0.9977869768970653\n"
     ]
    },
    {
     "data": {
      "text/plain": [
       "(0.9977869768970653, 4)"
      ]
     },
     "execution_count": 51,
     "metadata": {},
     "output_type": "execute_result"
    }
   ],
   "source": [
    "chi_square_test(df_two_methods_prop)"
   ]
  },
  {
   "cell_type": "code",
   "execution_count": null,
   "metadata": {},
   "outputs": [],
   "source": []
  }
 ],
 "metadata": {
  "kernelspec": {
   "display_name": "Python 3",
   "language": "python",
   "name": "python3"
  },
  "language_info": {
   "codemirror_mode": {
    "name": "ipython",
    "version": 3
   },
   "file_extension": ".py",
   "mimetype": "text/x-python",
   "name": "python",
   "nbconvert_exporter": "python",
   "pygments_lexer": "ipython3",
   "version": "3.6.6"
  }
 },
 "nbformat": 4,
 "nbformat_minor": 2
}
