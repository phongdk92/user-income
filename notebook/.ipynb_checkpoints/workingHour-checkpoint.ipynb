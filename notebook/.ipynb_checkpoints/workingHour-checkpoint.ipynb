{
 "cells": [
  {
   "cell_type": "code",
   "execution_count": 5,
   "metadata": {},
   "outputs": [],
   "source": [
    "import os\n",
    "import gc\n",
    "import numpy as np\n",
    "import pandas as pd\n",
    "import seaborn as sns\n",
    "import matplotlib.gridspec as gridspec\n",
    "import matplotlib.pyplot as plt\n",
    "from datetime import datetime, timedelta\n",
    "%matplotlib inline"
   ]
  },
  {
   "cell_type": "code",
   "execution_count": 24,
   "metadata": {},
   "outputs": [],
   "source": [
    "end_date = '2019-05-21'\n",
    "num_days = 11\n",
    "PATH = '/home/phongdk/data_user_income_targeting/data/'\n",
    "filename = \"daily_histogram.gz\""
   ]
  },
  {
   "cell_type": "code",
   "execution_count": 8,
   "metadata": {},
   "outputs": [],
   "source": [
    "def load_data(path, filename, nrows=None):\n",
    "    # be carefull with data, since it could have duplicate user_id in different day\n",
    "    filepath = os.path.join(path, filename)\n",
    "    print(\"Load data from file : {}\".format(filepath))\n",
    "\n",
    "    try:\n",
    "        df = pd.read_csv(filepath, dtype={'user_id': str}, nrows=nrows)\n",
    "    except:\n",
    "        print(\"---------- Cannot load data from file : {} ---------------\".format(filepath))\n",
    "        df = []\n",
    "    return df"
   ]
  },
  {
   "cell_type": "code",
   "execution_count": 10,
   "metadata": {},
   "outputs": [],
   "source": [
    "def to_hour_distribution_df(dfs):\n",
    "    dfs_by_uid = dfs.groupby(['user_id', 'hour']).sum()#.compute()\n",
    "    dfs_unstack = dfs_by_uid.unstack(fill_value=0)\n",
    "    dfs_results = dfs_unstack.reset_index()\n",
    "    hour_columns = ['h_{}'.format(i) for i in range(24)] #list(np.arange(0,24))\n",
    "    dfs_results.columns = ['user_id'] + hour_columns\n",
    "    dfs_results[hour_columns] = dfs_results[hour_columns].div(dfs_results[hour_columns].sum(axis=1),\n",
    "                                                              axis=0).astype(np.float16)\n",
    "    dfs_results.set_index(\"user_id\", inplace=True)\n",
    "    return dfs_results"
   ]
  },
  {
   "cell_type": "code",
   "execution_count": 25,
   "metadata": {},
   "outputs": [
    {
     "name": "stdout",
     "output_type": "stream",
     "text": [
      "Load data from file : /home/phongdk/data_user_income_targeting/data/2019-05-21/daily_histogram.gz\n",
      "Load data from file : /home/phongdk/data_user_income_targeting/data/2019-05-20/daily_histogram.gz\n",
      "Load data from file : /home/phongdk/data_user_income_targeting/data/2019-05-19/daily_histogram.gz\n",
      "Load data from file : /home/phongdk/data_user_income_targeting/data/2019-05-18/daily_histogram.gz\n",
      "Load data from file : /home/phongdk/data_user_income_targeting/data/2019-05-17/daily_histogram.gz\n",
      "Load data from file : /home/phongdk/data_user_income_targeting/data/2019-05-16/daily_histogram.gz\n",
      "Load data from file : /home/phongdk/data_user_income_targeting/data/2019-05-15/daily_histogram.gz\n",
      "Load data from file : /home/phongdk/data_user_income_targeting/data/2019-05-14/daily_histogram.gz\n",
      "Load data from file : /home/phongdk/data_user_income_targeting/data/2019-05-13/daily_histogram.gz\n",
      "Load data from file : /home/phongdk/data_user_income_targeting/data/2019-05-12/daily_histogram.gz\n",
      "Load data from file : /home/phongdk/data_user_income_targeting/data/2019-05-11/daily_histogram.gz\n",
      "CPU times: user 4min 21s, sys: 53.7 s, total: 5min 14s\n",
      "Wall time: 5min 15s\n"
     ]
    }
   ],
   "source": [
    "%%time\n",
    "dfs = []\n",
    "for day in range(num_days):\n",
    "    date = (datetime.strptime(end_date, \"%Y-%m-%d\") - timedelta(days=day)).strftime(\"%Y-%m-%d\")\n",
    "    dfs.append(load_data(os.path.join(PATH, date), filename))\n",
    "df = pd.concat(dfs)\n",
    "df = to_hour_distribution_df(df)    "
   ]
  },
  {
   "cell_type": "code",
   "execution_count": 45,
   "metadata": {},
   "outputs": [
    {
     "name": "stdout",
     "output_type": "stream",
     "text": [
      "['h_8', 'h_9', 'h_10', 'h_11', 'h_12', 'h_13', 'h_14', 'h_15', 'h_16', 'h_17', 'h_18', 'h_19']\n"
     ]
    }
   ],
   "source": [
    "WORK_STATION_THRESHOLD = 0.96\n",
    "working_hours = ['h_{}'.format(i) for i in range(8, 20)]  # from 8am to 7pm\n",
    "print(working_hours)\n",
    "df['working_proportion'] = df[working_hours].sum(axis=1)\n",
    "df['work_station'] = (df['working_proportion'] > WORK_STATION_THRESHOLD).astype(np.int8)"
   ]
  },
  {
   "cell_type": "code",
   "execution_count": 46,
   "metadata": {},
   "outputs": [
    {
     "name": "stdout",
     "output_type": "stream",
     "text": [
      "28.874645587856147\n"
     ]
    }
   ],
   "source": [
    "print(df['work_station'].sum() * 100 / len(df))"
   ]
  },
  {
   "cell_type": "code",
   "execution_count": 49,
   "metadata": {},
   "outputs": [
    {
     "data": {
      "text/plain": [
       "0.96142578125"
      ]
     },
     "execution_count": 49,
     "metadata": {},
     "output_type": "execute_result"
    }
   ],
   "source": [
    "np.percentile(df['working_proportion'], 70)"
   ]
  },
  {
   "cell_type": "code",
   "execution_count": null,
   "metadata": {},
   "outputs": [],
   "source": []
  }
 ],
 "metadata": {
  "kernelspec": {
   "display_name": "Python 3",
   "language": "python",
   "name": "python3"
  },
  "language_info": {
   "codemirror_mode": {
    "name": "ipython",
    "version": 3
   },
   "file_extension": ".py",
   "mimetype": "text/x-python",
   "name": "python",
   "nbconvert_exporter": "python",
   "pygments_lexer": "ipython3",
   "version": "3.6.8"
  }
 },
 "nbformat": 4,
 "nbformat_minor": 2
}
