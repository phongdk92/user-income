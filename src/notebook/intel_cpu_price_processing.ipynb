{
 "cells": [
  {
   "cell_type": "code",
   "execution_count": 1,
   "metadata": {},
   "outputs": [],
   "source": [
    "import numpy as np\n",
    "import pandas as pd\n",
    "import matplotlib.pyplot as plt\n",
    "import seaborn as sns\n",
    "import re\n",
    "%matplotlib inline"
   ]
  },
  {
   "cell_type": "code",
   "execution_count": 2,
   "metadata": {},
   "outputs": [],
   "source": [
    "def get_cpu_name(x, pattern='[a-zA-Z0-9-.]+'):\n",
    "    if 'ghz' not in x.lower():\n",
    "        return None\n",
    "    #x = x.replace('GHz', ' GHz ')\n",
    "    names = re.findall(string=x, pattern=pattern)\n",
    "    if names[-1].lower() == 'ghz': \n",
    "        return f'{names[0]} @ {names[-2]}{names[-1]}'\n",
    "    if 'ghz' in names[-1].lower():\n",
    "        return f'{names[-2]} @ {names[-1]}'\n",
    "    return f'{names[0]} @ {names[-3]}{names[-2]}'"
   ]
  },
  {
   "cell_type": "markdown",
   "metadata": {},
   "source": [
    "### Get price of CPU from Intel report"
   ]
  },
  {
   "cell_type": "code",
   "execution_count": 3,
   "metadata": {},
   "outputs": [],
   "source": [
    "filename = '/home/phongdk/workspace/user-income/external_data/device/cpu_price_by_intel.csv'"
   ]
  },
  {
   "cell_type": "code",
   "execution_count": 4,
   "metadata": {
    "scrolled": true
   },
   "outputs": [
    {
     "data": {
      "text/plain": [
       "(254, 2)"
      ]
     },
     "execution_count": 4,
     "metadata": {},
     "output_type": "execute_result"
    }
   ],
   "source": [
    "df = pd.read_csv(filename, nrows=305)\n",
    "df.dropna(inplace=True)\n",
    "df.drop(columns='Unnamed: 1', inplace=True)\n",
    "df.columns = ['cpu_model', 'price']\n",
    "df = df[df['price'] != 'Price']\n",
    "df.shape"
   ]
  },
  {
   "cell_type": "code",
   "execution_count": 5,
   "metadata": {},
   "outputs": [
    {
     "data": {
      "text/html": [
       "<div>\n",
       "<style scoped>\n",
       "    .dataframe tbody tr th:only-of-type {\n",
       "        vertical-align: middle;\n",
       "    }\n",
       "\n",
       "    .dataframe tbody tr th {\n",
       "        vertical-align: top;\n",
       "    }\n",
       "\n",
       "    .dataframe thead th {\n",
       "        text-align: right;\n",
       "    }\n",
       "</style>\n",
       "<table border=\"1\" class=\"dataframe\">\n",
       "  <thead>\n",
       "    <tr style=\"text-align: right;\">\n",
       "      <th></th>\n",
       "      <th>cpu_model</th>\n",
       "      <th>price</th>\n",
       "      <th>cpu_model_short</th>\n",
       "    </tr>\n",
       "  </thead>\n",
       "  <tbody>\n",
       "    <tr>\n",
       "      <th>2</th>\n",
       "      <td>Intel® X-series Processor Family</td>\n",
       "      <td>Jan'19 (01/07)</td>\n",
       "      <td>None</td>\n",
       "    </tr>\n",
       "    <tr>\n",
       "      <th>5</th>\n",
       "      <td>i9-9980XE (24.75M cache, 18 Cores, 36 Threads,...</td>\n",
       "      <td>$1,979</td>\n",
       "      <td>i9-9980XE @ 3.00GHz</td>\n",
       "    </tr>\n",
       "    <tr>\n",
       "      <th>6</th>\n",
       "      <td>i9-7980XE (24.75M cache, 18 Cores, 36 Threads,...</td>\n",
       "      <td>$1,979</td>\n",
       "      <td>i9-7980XE @ 2.60GHz</td>\n",
       "    </tr>\n",
       "    <tr>\n",
       "      <th>7</th>\n",
       "      <td>i9-9960X (22M cache, 16 Cores, 32 Threads, 3.1...</td>\n",
       "      <td>$1,684</td>\n",
       "      <td>i9-9960X @ 3.10GHz</td>\n",
       "    </tr>\n",
       "    <tr>\n",
       "      <th>8</th>\n",
       "      <td>i9-7960X (22M cache, 16 Cores, 32 Threads, 2.8...</td>\n",
       "      <td>$1,684</td>\n",
       "      <td>i9-7960X @ 2.80GHz</td>\n",
       "    </tr>\n",
       "  </tbody>\n",
       "</table>\n",
       "</div>"
      ],
      "text/plain": [
       "                                           cpu_model           price  \\\n",
       "2                   Intel® X-series Processor Family  Jan'19 (01/07)   \n",
       "5  i9-9980XE (24.75M cache, 18 Cores, 36 Threads,...          $1,979   \n",
       "6  i9-7980XE (24.75M cache, 18 Cores, 36 Threads,...          $1,979   \n",
       "7  i9-9960X (22M cache, 16 Cores, 32 Threads, 3.1...          $1,684   \n",
       "8  i9-7960X (22M cache, 16 Cores, 32 Threads, 2.8...          $1,684   \n",
       "\n",
       "       cpu_model_short  \n",
       "2                 None  \n",
       "5  i9-9980XE @ 3.00GHz  \n",
       "6  i9-7980XE @ 2.60GHz  \n",
       "7   i9-9960X @ 3.10GHz  \n",
       "8   i9-7960X @ 2.80GHz  "
      ]
     },
     "execution_count": 5,
     "metadata": {},
     "output_type": "execute_result"
    }
   ],
   "source": [
    "df['cpu_model_short'] = df['cpu_model'].apply(lambda x: get_cpu_name(x, pattern='[a-zA-Z0-9-.]+'))\n",
    "df.head()"
   ]
  },
  {
   "cell_type": "code",
   "execution_count": 6,
   "metadata": {
    "scrolled": true
   },
   "outputs": [],
   "source": [
    "cpu_price_vnese_df = pd.read_csv('/home/phongdk/workspace/user-income/external_data/device/CPU_prices.csv', \n",
    "                                 sep='\\t', usecols=['CPU model', 'Price, in VND'])"
   ]
  },
  {
   "cell_type": "markdown",
   "metadata": {},
   "source": [
    "### Price from Bachan's file"
   ]
  },
  {
   "cell_type": "code",
   "execution_count": 7,
   "metadata": {},
   "outputs": [
    {
     "data": {
      "text/html": [
       "<div>\n",
       "<style scoped>\n",
       "    .dataframe tbody tr th:only-of-type {\n",
       "        vertical-align: middle;\n",
       "    }\n",
       "\n",
       "    .dataframe tbody tr th {\n",
       "        vertical-align: top;\n",
       "    }\n",
       "\n",
       "    .dataframe thead th {\n",
       "        text-align: right;\n",
       "    }\n",
       "</style>\n",
       "<table border=\"1\" class=\"dataframe\">\n",
       "  <thead>\n",
       "    <tr style=\"text-align: right;\">\n",
       "      <th></th>\n",
       "      <th>CPU model</th>\n",
       "      <th>Price, in VND</th>\n",
       "      <th>cpu_model_short</th>\n",
       "    </tr>\n",
       "  </thead>\n",
       "  <tbody>\n",
       "    <tr>\n",
       "      <th>0</th>\n",
       "      <td>Intel(R) Pentium(R) CPU G2030 @ 3.00GHz</td>\n",
       "      <td>1453760</td>\n",
       "      <td>G2030 @ 3.00GHz</td>\n",
       "    </tr>\n",
       "    <tr>\n",
       "      <th>1</th>\n",
       "      <td>Intel(R) Pentium(R) CPU G3250 @ 3.20GHz</td>\n",
       "      <td>1294755</td>\n",
       "      <td>G3250 @ 3.20GHz</td>\n",
       "    </tr>\n",
       "    <tr>\n",
       "      <th>2</th>\n",
       "      <td>Intel(R) Core(TM) i3-4005U CPU @ 1.70GHz</td>\n",
       "      <td>6246625</td>\n",
       "      <td>i3-4005U @ 1.70GHz</td>\n",
       "    </tr>\n",
       "    <tr>\n",
       "      <th>3</th>\n",
       "      <td>Intel(R) Core(TM) i3-3217U CPU @ 1.80GHz</td>\n",
       "      <td>5110875</td>\n",
       "      <td>i3-3217U @ 1.80GHz</td>\n",
       "    </tr>\n",
       "    <tr>\n",
       "      <th>4</th>\n",
       "      <td>Intel(R) Core(TM) i3-5005U CPU @ 2.00GHz</td>\n",
       "      <td>6246625</td>\n",
       "      <td>i3-5005U @ 2.00GHz</td>\n",
       "    </tr>\n",
       "  </tbody>\n",
       "</table>\n",
       "</div>"
      ],
      "text/plain": [
       "                                  CPU model  Price, in VND     cpu_model_short\n",
       "0   Intel(R) Pentium(R) CPU G2030 @ 3.00GHz        1453760     G2030 @ 3.00GHz\n",
       "1   Intel(R) Pentium(R) CPU G3250 @ 3.20GHz        1294755     G3250 @ 3.20GHz\n",
       "2  Intel(R) Core(TM) i3-4005U CPU @ 1.70GHz        6246625  i3-4005U @ 1.70GHz\n",
       "3  Intel(R) Core(TM) i3-3217U CPU @ 1.80GHz        5110875  i3-3217U @ 1.80GHz\n",
       "4  Intel(R) Core(TM) i3-5005U CPU @ 2.00GHz        6246625  i3-5005U @ 2.00GHz"
      ]
     },
     "execution_count": 7,
     "metadata": {},
     "output_type": "execute_result"
    }
   ],
   "source": [
    "cpu_price_vnese_df['cpu_model_short'] = cpu_price_vnese_df['CPU model'].apply(lambda x: \n",
    "                                                                              get_cpu_name(x.replace('CPU ', '')))\n",
    "cpu_price_vnese_df.head()"
   ]
  },
  {
   "cell_type": "code",
   "execution_count": 8,
   "metadata": {},
   "outputs": [
    {
     "name": "stdout",
     "output_type": "stream",
     "text": [
      "141 231\n"
     ]
    }
   ],
   "source": [
    "print(len(set(cpu_price_vnese_df['cpu_model_short'].values)), len(set(df['cpu_model_short'].values)))"
   ]
  },
  {
   "cell_type": "code",
   "execution_count": 9,
   "metadata": {},
   "outputs": [
    {
     "name": "stdout",
     "output_type": "stream",
     "text": [
      "{'i5-6200U @ 2.30GHz', 'i7-6500U @ 2.50GHz', 'i3-6100 @ 3.70GHz', 'i5-6400 @ 2.70GHz', 'i3-5005U @ 2.00GHz', 'i7-4510U @ 2.00GHz', 'i5-7200U @ 2.50GHz', 'G4400 @ 3.30GHz', 'i3-6100U @ 2.30GHz', 'i5-5250U @ 1.60GHz', 'i3-5010U @ 2.10GHz'}\n"
     ]
    }
   ],
   "source": [
    "print(set(cpu_price_vnese_df['cpu_model_short'].values).intersection(set(df['cpu_model_short'].values)))"
   ]
  },
  {
   "cell_type": "markdown",
   "metadata": {},
   "source": [
    "### Get List CPU from database"
   ]
  },
  {
   "cell_type": "code",
   "execution_count": 10,
   "metadata": {},
   "outputs": [
    {
     "data": {
      "text/plain": [
       "(2371, 1)"
      ]
     },
     "execution_count": 10,
     "metadata": {},
     "output_type": "execute_result"
    }
   ],
   "source": [
    "cpu_list_from_db = pd.read_csv('/home/phongdk/tmp/cpu_list', names=['cpu model'])\n",
    "cpu_list_from_db.dropna(inplace=True)\n",
    "cpu_list_from_db.shape"
   ]
  },
  {
   "cell_type": "code",
   "execution_count": 11,
   "metadata": {},
   "outputs": [
    {
     "data": {
      "text/html": [
       "<div>\n",
       "<style scoped>\n",
       "    .dataframe tbody tr th:only-of-type {\n",
       "        vertical-align: middle;\n",
       "    }\n",
       "\n",
       "    .dataframe tbody tr th {\n",
       "        vertical-align: top;\n",
       "    }\n",
       "\n",
       "    .dataframe thead th {\n",
       "        text-align: right;\n",
       "    }\n",
       "</style>\n",
       "<table border=\"1\" class=\"dataframe\">\n",
       "  <thead>\n",
       "    <tr style=\"text-align: right;\">\n",
       "      <th></th>\n",
       "      <th>cpu model</th>\n",
       "      <th>cpu_model_short</th>\n",
       "    </tr>\n",
       "  </thead>\n",
       "  <tbody>\n",
       "    <tr>\n",
       "      <th>0</th>\n",
       "      <td>Intel(R) Core(TM) i3-4160 CPU @ 3.60GHz</td>\n",
       "      <td>i3-4160 @ 3.60GHz</td>\n",
       "    </tr>\n",
       "    <tr>\n",
       "      <th>1</th>\n",
       "      <td>Intel(R) Pentium(R) CPU P6200 @ 2.13GHz</td>\n",
       "      <td>P6200 @ 2.13GHz</td>\n",
       "    </tr>\n",
       "    <tr>\n",
       "      <th>2</th>\n",
       "      <td>Intel(R) Pentium(R) CPU G2030 @ 3.00GHz</td>\n",
       "      <td>G2030 @ 3.00GHz</td>\n",
       "    </tr>\n",
       "    <tr>\n",
       "      <th>3</th>\n",
       "      <td>Intel(R) Core(TM) i3-2120 CPU @ 3.30GHz</td>\n",
       "      <td>i3-2120 @ 3.30GHz</td>\n",
       "    </tr>\n",
       "    <tr>\n",
       "      <th>4</th>\n",
       "      <td>Intel(R) Core(TM) i5-4570 CPU @ 3.20GHz</td>\n",
       "      <td>i5-4570 @ 3.20GHz</td>\n",
       "    </tr>\n",
       "  </tbody>\n",
       "</table>\n",
       "</div>"
      ],
      "text/plain": [
       "                                 cpu model    cpu_model_short\n",
       "0  Intel(R) Core(TM) i3-4160 CPU @ 3.60GHz  i3-4160 @ 3.60GHz\n",
       "1  Intel(R) Pentium(R) CPU P6200 @ 2.13GHz    P6200 @ 2.13GHz\n",
       "2  Intel(R) Pentium(R) CPU G2030 @ 3.00GHz    G2030 @ 3.00GHz\n",
       "3  Intel(R) Core(TM) i3-2120 CPU @ 3.30GHz  i3-2120 @ 3.30GHz\n",
       "4  Intel(R) Core(TM) i5-4570 CPU @ 3.20GHz  i5-4570 @ 3.20GHz"
      ]
     },
     "execution_count": 11,
     "metadata": {},
     "output_type": "execute_result"
    }
   ],
   "source": [
    "cpu_list_from_db['cpu_model_short'] = cpu_list_from_db['cpu model'].apply(lambda x: \n",
    "                                                                              get_cpu_name(x.replace('CPU ', '')))\n",
    "cpu_list_from_db.head()"
   ]
  },
  {
   "cell_type": "code",
   "execution_count": 12,
   "metadata": {},
   "outputs": [
    {
     "name": "stdout",
     "output_type": "stream",
     "text": [
      "{'i7-6950X @ 3.00GHz', 'i5-5350U @ 1.80GHz', 'i7-5775C @ 3.30GHz', 'i5-8500 @ 3.00GHz', 'i5-5257U @ 2.70GHz', 'i7-7700T @ 2.90GHz', 'i3-5005U @ 2.00GHz', 'i7-8500Y @ 1.50GHz', 'i7-5700HQ @ 2.70GHz', '4410Y @ 1.50GHz', 'i3-6006U @ 2.00GHz', 'i7-7700K @ 4.20GHz', '3865U @ 1.80GHz', 'i5-6300U @ 2.40GHz', 'i3-6300T @ 3.30GHz', 'i7-8550U @ 1.80GHz', 'i7-8700 @ 3.20GHz', 'i7-4510U @ 2.00GHz', 'i5-6198DU @ 2.30GHz', 'i5-5250U @ 1.60GHz', 'i3-6300 @ 3.80GHz', 'i5-8500T @ 2.10GHz', 'G5400 @ 3.70GHz', 'i9-8950HK @ 2.90GHz', 'i7-8750H @ 2.20GHz', 'i5-6200U @ 2.30GHz', 'i5-6400T @ 2.20GHz', 'i3-7350K @ 4.20GHz', 'G5600 @ 3.90GHz', 'G4920 @ 3.20GHz', 'i3-7320 @ 4.10GHz', 'i7-6560U @ 2.20GHz', 'i5-8600 @ 3.10GHz', 'i5-6260U @ 1.80GHz', 'i5-6300HQ @ 2.30GHz', 'i5-5675C @ 3.10GHz', 'i5-8250U @ 1.60GHz', 'i7-7700HQ @ 2.80GHz', 'i7-6770HQ @ 2.60GHz', 'm7-6Y75 @ 1.20GHz', 'i5-6267U @ 2.90GHz', 'E-2176M @ 2.70GHz', 'i7-7567U @ 3.50GHz', 'i7-6700K @ 4.00GHz', 'i7-8700T @ 2.40GHz', 'i3-6100 @ 3.70GHz', 'i3-8130U @ 2.20GHz', 'G4520 @ 3.60GHz', '4405U @ 2.10GHz', '3955U @ 2.00GHz', 'i3-7100T @ 3.40GHz', 'i7-6498DU @ 2.50GHz', 'G4560T @ 2.90GHz', 'G4400T @ 2.90GHz', 'i7-5557U @ 3.10GHz', 'i5-6600K @ 3.50GHz', 'i5-6600T @ 2.70GHz', 'i7-5650U @ 2.20GHz', 'i5-8265U @ 1.60GHz', 'i5-7400T @ 2.40GHz', 'G5500 @ 3.80GHz', 'i7-6700HQ @ 2.60GHz', 'i9-7900X @ 3.30GHz', 'i7-6567U @ 3.30GHz', 'i3-7300 @ 4.00GHz', '3855U @ 1.60GHz', 'i5-6440HQ @ 2.60GHz', 'G4400 @ 3.30GHz', '4415U @ 2.30GHz', 'i5-6500T @ 2.50GHz', 'G4600 @ 3.60GHz', 'i5-6360U @ 2.00GHz', 'i3-8100 @ 3.60GHz', 'i7-5930K @ 3.50GHz', 'i7-5950HQ @ 2.90GHz', 'i3-7300T @ 3.50GHz', 'G3900T @ 2.60GHz', 'i5-7600K @ 3.80GHz', 'i7-8700K @ 3.70GHz', 'i5-5287U @ 2.90GHz', 'i7-7820X @ 3.60GHz', 'i9-9900K @ 3.60GHz', 'i7-6920HQ @ 2.90GHz', 'i5-7600 @ 3.50GHz', 'i5-7440HQ @ 2.80GHz', 'i5-8300H @ 2.30GHz', 'i7-9700K @ 3.60GHz', 'i5-7600T @ 2.80GHz', 'i7-7740X @ 4.30GHz', '4415Y @ 1.60GHz', 'i5-9600K @ 3.70GHz', 'G4620 @ 3.70GHz', 'G4900 @ 3.10GHz', 'i5-8400 @ 2.80GHz', 'G4500 @ 3.50GHz', 'i9-7980XE @ 2.60GHz', 'i3-8300 @ 3.70GHz', 'i5-8400T @ 1.70GHz', 'i7-8565U @ 1.80GHz', 'i3-6100T @ 3.20GHz', 'i3-8100T @ 3.10GHz', 'i9-7940X @ 3.10GHz', 'i3-5015U @ 2.10GHz', 'i7-7Y75 @ 1.30GHz', 'G4560 @ 3.50GHz', 'i7-7500U @ 2.70GHz', 'i5-6500 @ 3.20GHz', 'i7-5820K @ 3.30GHz', 'i7-5960X @ 3.00GHz', 'i3-5157U @ 2.50GHz', 'i9-7920X @ 2.90GHz', 'i3-8350K @ 4.00GHz', 'i9-7960X @ 2.80GHz', 'i5-7Y54 @ 1.20GHz', 'i5-7200U @ 2.50GHz', 'i7-6600U @ 2.60GHz', 'i5-7640X @ 4.00GHz', 'i7-7820HQ @ 2.90GHz', 'i5-7300HQ @ 2.50GHz', 'G3900 @ 2.80GHz', 'i7-8850H @ 2.60GHz', 'i7-6500U @ 2.50GHz', 'i7-6650U @ 2.20GHz', 'i5-7267U @ 3.10GHz', 'i3-6100U @ 2.30GHz', 'i3-5010U @ 2.10GHz', 'G3930T @ 2.70GHz', 'i7-6700T @ 2.80GHz', 'i5-7360U @ 2.30GHz', 'i5-7300U @ 2.60GHz', 'G3920 @ 2.90GHz', 'i3-6320 @ 3.90GHz', 'm3-7Y30 @ 1.00GHz', None, 'i7-7660U @ 2.50GHz', 'i3-7100 @ 3.90GHz', 'i5-7400 @ 3.00GHz', 'G3930 @ 2.90GHz', 'i3-6100H @ 2.70GHz', 'i7-8650U @ 1.90GHz', 'i5-6400 @ 2.70GHz', 'i5-7Y57 @ 1.20GHz', 'i5-7500T @ 2.70GHz', 'i7-7800X @ 3.50GHz', 'i5-7500 @ 3.40GHz', 'i7-6820HK @ 2.70GHz', 'i7-6820HQ @ 2.70GHz', 'i7-7700 @ 3.60GHz', 'i7-6700 @ 3.40GHz', 'i5-6600 @ 3.30GHz', 'i7-7820HK @ 2.90GHz', 'i5-8600K @ 3.60GHz', 'i5-7260U @ 2.20GHz', 'i5-8259U @ 2.30GHz', 'i7-7560U @ 2.40GHz', 'i3-5020U @ 2.20GHz'}\n"
     ]
    }
   ],
   "source": [
    "print(set(cpu_list_from_db['cpu_model_short'].values).intersection(set(df['cpu_model_short'].values)))"
   ]
  },
  {
   "cell_type": "code",
   "execution_count": 13,
   "metadata": {},
   "outputs": [
    {
     "name": "stdout",
     "output_type": "stream",
     "text": [
      "156\n"
     ]
    }
   ],
   "source": [
    "print(len(set(cpu_list_from_db['cpu_model_short'].values).intersection(set(df['cpu_model_short'].values))))"
   ]
  },
  {
   "cell_type": "code",
   "execution_count": 14,
   "metadata": {},
   "outputs": [],
   "source": [
    "s = 'i3-8130U (4M cache, 2 Cores, 4 Threads, 2.20 GHz)'"
   ]
  },
  {
   "cell_type": "code",
   "execution_count": 26,
   "metadata": {},
   "outputs": [
    {
     "data": {
      "text/plain": [
       "['i3-8130U']"
      ]
     },
     "execution_count": 26,
     "metadata": {},
     "output_type": "execute_result"
    }
   ],
   "source": [
    "re.findall(string=s, pattern='i3[a-zA-Z0-9-.]+', flags=re.IGNORECASE)"
   ]
  },
  {
   "cell_type": "code",
   "execution_count": null,
   "metadata": {},
   "outputs": [],
   "source": []
  }
 ],
 "metadata": {
  "kernelspec": {
   "display_name": "Python 3",
   "language": "python",
   "name": "python3"
  },
  "language_info": {
   "codemirror_mode": {
    "name": "ipython",
    "version": 3
   },
   "file_extension": ".py",
   "mimetype": "text/x-python",
   "name": "python",
   "nbconvert_exporter": "python",
   "pygments_lexer": "ipython3",
   "version": "3.6.8"
  }
 },
 "nbformat": 4,
 "nbformat_minor": 2
}
